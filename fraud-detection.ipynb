{
 "metadata": {
  "kernelspec": {
   "language": "python",
   "display_name": "Python 3",
   "name": "python3"
  },
  "language_info": {
   "name": "python",
   "version": "3.7.12",
   "mimetype": "text/x-python",
   "codemirror_mode": {
    "name": "ipython",
    "version": 3
   },
   "pygments_lexer": "ipython3",
   "nbconvert_exporter": "python",
   "file_extension": ".py"
  }
 },
 "nbformat_minor": 4,
 "nbformat": 4,
 "cells": [
  {
   "cell_type": "code",
   "source": [
    "# This Python 3 environment comes with many helpful analytics libraries installed\n",
    "# It is defined by the kaggle/python Docker image: https://github.com/kaggle/docker-python\n",
    "# For example, here's several helpful packages to load\n",
    "\n",
    "import numpy as np # linear algebra\n",
    "import pandas as pd # data processing, CSV file I/O (e.g. pd.read_csv)\n",
    "\n",
    "# Input data files are available in the read-only \"../input/\" directory\n",
    "# For example, running this (by clicking run or pressing Shift+Enter) will list all files under the input directory\n",
    "\n",
    "import os\n",
    "for dirname, _, filenames in os.walk('/kaggle/input'):\n",
    "    for filename in filenames:\n",
    "        print(os.path.join(dirname, filename))\n",
    "\n",
    "# You can write up to 20GB to the current directory (/kaggle/working/) that gets preserved as output when you create a version using \"Save & Run All\" \n",
    "# You can also write temporary files to /kaggle/temp/, but they won't be saved outside of the current session"
   ],
   "metadata": {
    "_uuid": "8f2839f25d086af736a60e9eeb907d3b93b6e0e5",
    "_cell_guid": "b1076dfc-b9ad-4769-8c92-a6c4dae69d19",
    "execution": {
     "iopub.status.busy": "2023-04-23T14:40:16.131851Z",
     "iopub.execute_input": "2023-04-23T14:40:16.132247Z",
     "iopub.status.idle": "2023-04-23T14:40:16.142012Z",
     "shell.execute_reply.started": "2023-04-23T14:40:16.132210Z",
     "shell.execute_reply": "2023-04-23T14:40:16.140686Z"
    },
    "trusted": true
   },
   "execution_count": 90,
   "outputs": []
  },
  {
   "cell_type": "code",
   "source": [
    "import numpy as np\n",
    "import pandas as pd\n",
    "\n",
    "import seaborn as sns\n",
    "import matplotlib.pyplot as plt"
   ],
   "metadata": {
    "execution": {
     "iopub.status.busy": "2023-04-23T14:40:16.144181Z",
     "iopub.execute_input": "2023-04-23T14:40:16.144680Z",
     "iopub.status.idle": "2023-04-23T14:40:16.157176Z",
     "shell.execute_reply.started": "2023-04-23T14:40:16.144637Z",
     "shell.execute_reply": "2023-04-23T14:40:16.155737Z"
    },
    "trusted": true
   },
   "execution_count": 91,
   "outputs": []
  },
  {
   "cell_type": "code",
   "source": [
    "train_transaction = pd.read_csv('train_transaction.csv')\n",
    "train_identity = pd.read_csv('train_identity.csv')"
   ],
   "metadata": {
    "execution": {
     "iopub.status.busy": "2023-04-23T14:40:16.159010Z",
     "iopub.execute_input": "2023-04-23T14:40:16.159454Z",
     "iopub.status.idle": "2023-04-23T14:40:40.926079Z",
     "shell.execute_reply.started": "2023-04-23T14:40:16.159412Z",
     "shell.execute_reply": "2023-04-23T14:40:40.924702Z"
    },
    "trusted": true
   },
   "execution_count": 92,
   "outputs": []
  },
  {
   "cell_type": "code",
   "source": [
    "train = pd.merge(train_transaction, train_identity, on='TransactionID', how='left')"
   ],
   "metadata": {
    "execution": {
     "iopub.status.busy": "2023-04-23T14:40:40.928890Z",
     "iopub.execute_input": "2023-04-23T14:40:40.929279Z",
     "iopub.status.idle": "2023-04-23T14:40:50.116349Z",
     "shell.execute_reply.started": "2023-04-23T14:40:40.929239Z",
     "shell.execute_reply": "2023-04-23T14:40:50.115231Z"
    },
    "trusted": true
   },
   "execution_count": 93,
   "outputs": []
  },
  {
   "cell_type": "code",
   "source": [
    "train"
   ],
   "metadata": {
    "execution": {
     "iopub.status.busy": "2023-04-23T14:41:07.286989Z",
     "iopub.execute_input": "2023-04-23T14:41:07.287505Z",
     "iopub.status.idle": "2023-04-23T14:41:07.331267Z",
     "shell.execute_reply.started": "2023-04-23T14:41:07.287462Z",
     "shell.execute_reply": "2023-04-23T14:41:07.329833Z"
    },
    "trusted": true
   },
   "execution_count": 94,
   "outputs": [
    {
     "data": {
      "text/plain": "        TransactionID  isFraud  TransactionDT  TransactionAmt ProductCD  \\\n0             2987000        0          86400           68.50         W   \n1             2987001        0          86401           29.00         W   \n2             2987002        0          86469           59.00         W   \n3             2987003        0          86499           50.00         W   \n4             2987004        0          86506           50.00         H   \n...               ...      ...            ...             ...       ...   \n590535        3577535        0       15811047           49.00         W   \n590536        3577536        0       15811049           39.50         W   \n590537        3577537        0       15811079           30.95         W   \n590538        3577538        0       15811088          117.00         W   \n590539        3577539        0       15811131          279.95         W   \n\n        card1  card2  card3       card4  card5  ...                id_31  \\\n0       13926    NaN  150.0    discover  142.0  ...                  NaN   \n1        2755  404.0  150.0  mastercard  102.0  ...                  NaN   \n2        4663  490.0  150.0        visa  166.0  ...                  NaN   \n3       18132  567.0  150.0  mastercard  117.0  ...                  NaN   \n4        4497  514.0  150.0  mastercard  102.0  ...  samsung browser 6.2   \n...       ...    ...    ...         ...    ...  ...                  ...   \n590535   6550    NaN  150.0        visa  226.0  ...                  NaN   \n590536  10444  225.0  150.0  mastercard  224.0  ...                  NaN   \n590537  12037  595.0  150.0  mastercard  224.0  ...                  NaN   \n590538   7826  481.0  150.0  mastercard  224.0  ...                  NaN   \n590539  15066  170.0  150.0  mastercard  102.0  ...                  NaN   \n\n        id_32      id_33           id_34  id_35 id_36 id_37  id_38  \\\n0         NaN        NaN             NaN    NaN   NaN   NaN    NaN   \n1         NaN        NaN             NaN    NaN   NaN   NaN    NaN   \n2         NaN        NaN             NaN    NaN   NaN   NaN    NaN   \n3         NaN        NaN             NaN    NaN   NaN   NaN    NaN   \n4        32.0  2220x1080  match_status:2      T     F     T      T   \n...       ...        ...             ...    ...   ...   ...    ...   \n590535    NaN        NaN             NaN    NaN   NaN   NaN    NaN   \n590536    NaN        NaN             NaN    NaN   NaN   NaN    NaN   \n590537    NaN        NaN             NaN    NaN   NaN   NaN    NaN   \n590538    NaN        NaN             NaN    NaN   NaN   NaN    NaN   \n590539    NaN        NaN             NaN    NaN   NaN   NaN    NaN   \n\n        DeviceType                     DeviceInfo  \n0              NaN                            NaN  \n1              NaN                            NaN  \n2              NaN                            NaN  \n3              NaN                            NaN  \n4           mobile  SAMSUNG SM-G892A Build/NRD90M  \n...            ...                            ...  \n590535         NaN                            NaN  \n590536         NaN                            NaN  \n590537         NaN                            NaN  \n590538         NaN                            NaN  \n590539         NaN                            NaN  \n\n[590540 rows x 434 columns]",
      "text/html": "<div>\n<style scoped>\n    .dataframe tbody tr th:only-of-type {\n        vertical-align: middle;\n    }\n\n    .dataframe tbody tr th {\n        vertical-align: top;\n    }\n\n    .dataframe thead th {\n        text-align: right;\n    }\n</style>\n<table border=\"1\" class=\"dataframe\">\n  <thead>\n    <tr style=\"text-align: right;\">\n      <th></th>\n      <th>TransactionID</th>\n      <th>isFraud</th>\n      <th>TransactionDT</th>\n      <th>TransactionAmt</th>\n      <th>ProductCD</th>\n      <th>card1</th>\n      <th>card2</th>\n      <th>card3</th>\n      <th>card4</th>\n      <th>card5</th>\n      <th>...</th>\n      <th>id_31</th>\n      <th>id_32</th>\n      <th>id_33</th>\n      <th>id_34</th>\n      <th>id_35</th>\n      <th>id_36</th>\n      <th>id_37</th>\n      <th>id_38</th>\n      <th>DeviceType</th>\n      <th>DeviceInfo</th>\n    </tr>\n  </thead>\n  <tbody>\n    <tr>\n      <th>0</th>\n      <td>2987000</td>\n      <td>0</td>\n      <td>86400</td>\n      <td>68.50</td>\n      <td>W</td>\n      <td>13926</td>\n      <td>NaN</td>\n      <td>150.0</td>\n      <td>discover</td>\n      <td>142.0</td>\n      <td>...</td>\n      <td>NaN</td>\n      <td>NaN</td>\n      <td>NaN</td>\n      <td>NaN</td>\n      <td>NaN</td>\n      <td>NaN</td>\n      <td>NaN</td>\n      <td>NaN</td>\n      <td>NaN</td>\n      <td>NaN</td>\n    </tr>\n    <tr>\n      <th>1</th>\n      <td>2987001</td>\n      <td>0</td>\n      <td>86401</td>\n      <td>29.00</td>\n      <td>W</td>\n      <td>2755</td>\n      <td>404.0</td>\n      <td>150.0</td>\n      <td>mastercard</td>\n      <td>102.0</td>\n      <td>...</td>\n      <td>NaN</td>\n      <td>NaN</td>\n      <td>NaN</td>\n      <td>NaN</td>\n      <td>NaN</td>\n      <td>NaN</td>\n      <td>NaN</td>\n      <td>NaN</td>\n      <td>NaN</td>\n      <td>NaN</td>\n    </tr>\n    <tr>\n      <th>2</th>\n      <td>2987002</td>\n      <td>0</td>\n      <td>86469</td>\n      <td>59.00</td>\n      <td>W</td>\n      <td>4663</td>\n      <td>490.0</td>\n      <td>150.0</td>\n      <td>visa</td>\n      <td>166.0</td>\n      <td>...</td>\n      <td>NaN</td>\n      <td>NaN</td>\n      <td>NaN</td>\n      <td>NaN</td>\n      <td>NaN</td>\n      <td>NaN</td>\n      <td>NaN</td>\n      <td>NaN</td>\n      <td>NaN</td>\n      <td>NaN</td>\n    </tr>\n    <tr>\n      <th>3</th>\n      <td>2987003</td>\n      <td>0</td>\n      <td>86499</td>\n      <td>50.00</td>\n      <td>W</td>\n      <td>18132</td>\n      <td>567.0</td>\n      <td>150.0</td>\n      <td>mastercard</td>\n      <td>117.0</td>\n      <td>...</td>\n      <td>NaN</td>\n      <td>NaN</td>\n      <td>NaN</td>\n      <td>NaN</td>\n      <td>NaN</td>\n      <td>NaN</td>\n      <td>NaN</td>\n      <td>NaN</td>\n      <td>NaN</td>\n      <td>NaN</td>\n    </tr>\n    <tr>\n      <th>4</th>\n      <td>2987004</td>\n      <td>0</td>\n      <td>86506</td>\n      <td>50.00</td>\n      <td>H</td>\n      <td>4497</td>\n      <td>514.0</td>\n      <td>150.0</td>\n      <td>mastercard</td>\n      <td>102.0</td>\n      <td>...</td>\n      <td>samsung browser 6.2</td>\n      <td>32.0</td>\n      <td>2220x1080</td>\n      <td>match_status:2</td>\n      <td>T</td>\n      <td>F</td>\n      <td>T</td>\n      <td>T</td>\n      <td>mobile</td>\n      <td>SAMSUNG SM-G892A Build/NRD90M</td>\n    </tr>\n    <tr>\n      <th>...</th>\n      <td>...</td>\n      <td>...</td>\n      <td>...</td>\n      <td>...</td>\n      <td>...</td>\n      <td>...</td>\n      <td>...</td>\n      <td>...</td>\n      <td>...</td>\n      <td>...</td>\n      <td>...</td>\n      <td>...</td>\n      <td>...</td>\n      <td>...</td>\n      <td>...</td>\n      <td>...</td>\n      <td>...</td>\n      <td>...</td>\n      <td>...</td>\n      <td>...</td>\n      <td>...</td>\n    </tr>\n    <tr>\n      <th>590535</th>\n      <td>3577535</td>\n      <td>0</td>\n      <td>15811047</td>\n      <td>49.00</td>\n      <td>W</td>\n      <td>6550</td>\n      <td>NaN</td>\n      <td>150.0</td>\n      <td>visa</td>\n      <td>226.0</td>\n      <td>...</td>\n      <td>NaN</td>\n      <td>NaN</td>\n      <td>NaN</td>\n      <td>NaN</td>\n      <td>NaN</td>\n      <td>NaN</td>\n      <td>NaN</td>\n      <td>NaN</td>\n      <td>NaN</td>\n      <td>NaN</td>\n    </tr>\n    <tr>\n      <th>590536</th>\n      <td>3577536</td>\n      <td>0</td>\n      <td>15811049</td>\n      <td>39.50</td>\n      <td>W</td>\n      <td>10444</td>\n      <td>225.0</td>\n      <td>150.0</td>\n      <td>mastercard</td>\n      <td>224.0</td>\n      <td>...</td>\n      <td>NaN</td>\n      <td>NaN</td>\n      <td>NaN</td>\n      <td>NaN</td>\n      <td>NaN</td>\n      <td>NaN</td>\n      <td>NaN</td>\n      <td>NaN</td>\n      <td>NaN</td>\n      <td>NaN</td>\n    </tr>\n    <tr>\n      <th>590537</th>\n      <td>3577537</td>\n      <td>0</td>\n      <td>15811079</td>\n      <td>30.95</td>\n      <td>W</td>\n      <td>12037</td>\n      <td>595.0</td>\n      <td>150.0</td>\n      <td>mastercard</td>\n      <td>224.0</td>\n      <td>...</td>\n      <td>NaN</td>\n      <td>NaN</td>\n      <td>NaN</td>\n      <td>NaN</td>\n      <td>NaN</td>\n      <td>NaN</td>\n      <td>NaN</td>\n      <td>NaN</td>\n      <td>NaN</td>\n      <td>NaN</td>\n    </tr>\n    <tr>\n      <th>590538</th>\n      <td>3577538</td>\n      <td>0</td>\n      <td>15811088</td>\n      <td>117.00</td>\n      <td>W</td>\n      <td>7826</td>\n      <td>481.0</td>\n      <td>150.0</td>\n      <td>mastercard</td>\n      <td>224.0</td>\n      <td>...</td>\n      <td>NaN</td>\n      <td>NaN</td>\n      <td>NaN</td>\n      <td>NaN</td>\n      <td>NaN</td>\n      <td>NaN</td>\n      <td>NaN</td>\n      <td>NaN</td>\n      <td>NaN</td>\n      <td>NaN</td>\n    </tr>\n    <tr>\n      <th>590539</th>\n      <td>3577539</td>\n      <td>0</td>\n      <td>15811131</td>\n      <td>279.95</td>\n      <td>W</td>\n      <td>15066</td>\n      <td>170.0</td>\n      <td>150.0</td>\n      <td>mastercard</td>\n      <td>102.0</td>\n      <td>...</td>\n      <td>NaN</td>\n      <td>NaN</td>\n      <td>NaN</td>\n      <td>NaN</td>\n      <td>NaN</td>\n      <td>NaN</td>\n      <td>NaN</td>\n      <td>NaN</td>\n      <td>NaN</td>\n      <td>NaN</td>\n    </tr>\n  </tbody>\n</table>\n<p>590540 rows × 434 columns</p>\n</div>"
     },
     "execution_count": 94,
     "metadata": {},
     "output_type": "execute_result"
    }
   ]
  },
  {
   "cell_type": "code",
   "source": [
    "train.isFraud.value_counts().plot(kind='pie', title='Distribution of predicted classes');"
   ],
   "metadata": {
    "execution": {
     "iopub.status.busy": "2023-04-23T14:41:11.184450Z",
     "iopub.execute_input": "2023-04-23T14:41:11.185966Z",
     "iopub.status.idle": "2023-04-23T14:41:11.414456Z",
     "shell.execute_reply.started": "2023-04-23T14:41:11.185898Z",
     "shell.execute_reply": "2023-04-23T14:41:11.412656Z"
    },
    "trusted": true
   },
   "execution_count": 95,
   "outputs": [
    {
     "data": {
      "text/plain": "<Figure size 640x480 with 1 Axes>",
      "image/png": "[encoded data removed]"
     },
     "metadata": {},
     "output_type": "display_data"
    }
   ]
  },
  {
   "cell_type": "code",
   "execution_count": 96,
   "outputs": [
    {
     "data": {
      "text/plain": "434"
     },
     "execution_count": 96,
     "metadata": {},
     "output_type": "execute_result"
    }
   ],
   "source": [
    "len(train.columns)"
   ],
   "metadata": {
    "collapsed": false
   }
  },
  {
   "cell_type": "code",
   "execution_count": 54,
   "outputs": [
    {
     "name": "stderr",
     "output_type": "stream",
     "text": [
      "100%|██████████| 434/434 [09:13<00:00,  1.28s/it]\n"
     ]
    }
   ],
   "source": [
    "# from tqdm import tqdm\n",
    "#\n",
    "# for column in tqdm(train.columns):\n",
    "#     if train[train[column].isna() == True].shape[0] / len(train[column]) >= 0.7:\n",
    "#         train = train.drop(columns=[column])"
   ],
   "metadata": {
    "collapsed": false
   }
  },
  {
   "cell_type": "code",
   "execution_count": 55,
   "outputs": [
    {
     "data": {
      "text/plain": "226"
     },
     "execution_count": 55,
     "metadata": {},
     "output_type": "execute_result"
    }
   ],
   "source": [
    "# len(train.columns)"
   ],
   "metadata": {
    "collapsed": false
   }
  },
  {
   "cell_type": "code",
   "source": [
    "def transform_email(value):\n",
    "    \"\"\"\n",
    "    Transform email domains into domain names only.\n",
    "    \n",
    "    We have found in the data, that some email domains \n",
    "    are repeated (e.g. `gmail` and `gmail.com`). \n",
    "    \n",
    "    :param value: .\n",
    "    :return: transformed email domain.\n",
    "    \"\"\"\n",
    "    if value is np.nan:\n",
    "        return value\n",
    "    return value.split('.')[0]"
   ],
   "metadata": {
    "execution": {
     "iopub.status.busy": "2023-04-23T14:41:15.249997Z",
     "iopub.execute_input": "2023-04-23T14:41:15.250494Z",
     "iopub.status.idle": "2023-04-23T14:41:15.257379Z",
     "shell.execute_reply.started": "2023-04-23T14:41:15.250451Z",
     "shell.execute_reply": "2023-04-23T14:41:15.256265Z"
    },
    "trusted": true
   },
   "execution_count": 97,
   "outputs": []
  },
  {
   "cell_type": "code",
   "source": [
    "email_attributes = ['P_emaildomain', 'R_emaildomain']\n",
    "\n",
    "for email_attribute in email_attributes:\n",
    "    train[f'{email_attribute}_transformed'] = train[email_attribute].apply(lambda x: transform_email(x))"
   ],
   "metadata": {
    "execution": {
     "iopub.status.busy": "2023-04-23T14:41:16.536188Z",
     "iopub.execute_input": "2023-04-23T14:41:16.537297Z",
     "iopub.status.idle": "2023-04-23T14:41:17.105144Z",
     "shell.execute_reply.started": "2023-04-23T14:41:16.537246Z",
     "shell.execute_reply": "2023-04-23T14:41:17.103752Z"
    },
    "trusted": true
   },
   "execution_count": 98,
   "outputs": []
  },
  {
   "cell_type": "code",
   "source": [
    "# !pip install preprocess"
   ],
   "metadata": {
    "execution": {
     "iopub.status.busy": "2023-04-23T14:41:18.249194Z",
     "iopub.execute_input": "2023-04-23T14:41:18.249682Z",
     "iopub.status.idle": "2023-04-23T14:41:31.938016Z",
     "shell.execute_reply.started": "2023-04-23T14:41:18.249643Z",
     "shell.execute_reply": "2023-04-23T14:41:31.936343Z"
    },
    "trusted": true
   },
   "execution_count": 58,
   "outputs": [
    {
     "name": "stdout",
     "output_type": "stream",
     "text": [
      "Requirement already satisfied: preprocess in /opt/anaconda3/lib/python3.9/site-packages (2.0.0)\r\n",
      "Requirement already satisfied: future in /opt/anaconda3/lib/python3.9/site-packages (from preprocess) (0.18.2)\r\n",
      "\r\n",
      "\u001B[1m[\u001B[0m\u001B[34;49mnotice\u001B[0m\u001B[1;39;49m]\u001B[0m\u001B[39;49m A new release of pip is available: \u001B[0m\u001B[31;49m23.1\u001B[0m\u001B[39;49m -> \u001B[0m\u001B[32;49m23.1.1\u001B[0m\r\n",
      "\u001B[1m[\u001B[0m\u001B[34;49mnotice\u001B[0m\u001B[1;39;49m]\u001B[0m\u001B[39;49m To update, run: \u001B[0m\u001B[32;49mpip install --upgrade pip\u001B[0m\r\n"
     ]
    }
   ]
  },
  {
   "cell_type": "code",
   "source": [
    "import sys\n",
    "sys.path.append('..')\n",
    "\n",
    "# Supress libraries deprecation import warnings\n",
    "import warnings\n",
    "warnings.filterwarnings('ignore')\n",
    "\n",
    "import pandas as pd\n",
    "import numpy as np\n",
    "\n",
    "from sklearn.pipeline import make_pipeline\n"
   ],
   "metadata": {
    "execution": {
     "iopub.status.busy": "2023-04-23T14:41:33.129302Z",
     "iopub.execute_input": "2023-04-23T14:41:33.129804Z",
     "iopub.status.idle": "2023-04-23T14:41:33.193894Z",
     "shell.execute_reply.started": "2023-04-23T14:41:33.129758Z",
     "shell.execute_reply": "2023-04-23T14:41:33.192636Z"
    },
    "trusted": true
   },
   "execution_count": 99,
   "outputs": []
  },
  {
   "cell_type": "code",
   "source": [
    "from os.path import join, dirname\n",
    "import pandas as pd\n",
    "\n",
    "\n",
    "def merge_datasets():\n",
    "    \"\"\"Merge `transactions.csv` and `identities.csv` files.\"\"\"\n",
    "    print('Datasets merging started.')\n",
    "\n",
    "    dir_name = dirname(__file__)\n",
    "\n",
    "    df_identities = pd.read_csv(join(dir_name, '../../data/identities.csv'))\n",
    "    print('File identities.csv read.')\n",
    "\n",
    "    df_transactions = pd.read_csv(\n",
    "        join(dir_name, '../../data/transactions.csv')\n",
    "    )\n",
    "    print('File transactions.csv read.')\n",
    "\n",
    "    df = pd.merge(\n",
    "        df_transactions,\n",
    "        df_identities,\n",
    "        on='TransactionID',\n",
    "        how='left'\n",
    "    )\n",
    "\n",
    "    print('Saving merged dataset...')\n",
    "    df.to_csv(join(dir_name, '../../data/dataset.csv'), index=False)\n",
    "    print('Dataset successfully stored as dataset.csv.')"
   ],
   "metadata": {
    "execution": {
     "iopub.status.busy": "2023-04-23T14:41:33.458562Z",
     "iopub.execute_input": "2023-04-23T14:41:33.459474Z",
     "iopub.status.idle": "2023-04-23T14:41:33.468076Z",
     "shell.execute_reply.started": "2023-04-23T14:41:33.459424Z",
     "shell.execute_reply": "2023-04-23T14:41:33.467106Z"
    },
    "trusted": true
   },
   "execution_count": 100,
   "outputs": []
  },
  {
   "cell_type": "code",
   "source": [
    "# https://github.com/marrrcin/pandas-feature-union/blob/master/pandas_feature_union.py\n",
    "\n",
    "import numpy as np\n",
    "import pandas as pd\n",
    "\n",
    "from joblib import Parallel, delayed\n",
    "from sklearn.pipeline import FeatureUnion, _fit_transform_one, _transform_one\n",
    "from scipy import sparse\n",
    "\n",
    "\n",
    "class PandasFeatureUnion(FeatureUnion):\n",
    "    \"\"\"Feature union transformer for pandas.\"\"\"\n",
    "\n",
    "    def fit_transform(self, X, y=None, **fit_params):\n",
    "        self._validate_transformers()\n",
    "        result = Parallel(n_jobs=self.n_jobs)(\n",
    "            delayed(_fit_transform_one)(\n",
    "                transformer=trans,\n",
    "                X=X,\n",
    "                y=y,\n",
    "                weight=weight,\n",
    "                **fit_params)\n",
    "            for name, trans, weight in self._iter())\n",
    "\n",
    "        if not result:\n",
    "            # All transformers are None\n",
    "            return np.zeros((X.shape[0], 0))\n",
    "        Xs, transformers = zip(*result)\n",
    "        self._update_transformer_list(transformers)\n",
    "        if any(sparse.issparse(f) for f in Xs):\n",
    "            Xs = sparse.hstack(Xs).tocsr()\n",
    "        else:\n",
    "            Xs = self.merge_dataframes_by_column(Xs)\n",
    "        return Xs\n",
    "\n",
    "    def merge_dataframes_by_column(self, Xs):\n",
    "        return pd.concat(Xs, axis=\"columns\", copy=False)\n",
    "\n",
    "    def transform(self, X):\n",
    "        Xs = Parallel(n_jobs=self.n_jobs)(\n",
    "            delayed(_transform_one)(\n",
    "                transformer=trans,\n",
    "                X=X,\n",
    "                y=None,\n",
    "                weight=weight)\n",
    "            for name, trans, weight in self._iter())\n",
    "        if not Xs:\n",
    "            # All transformers are None\n",
    "            return np.zeros((X.shape[0], 0))\n",
    "        if any(sparse.issparse(f) for f in Xs):\n",
    "            Xs = sparse.hstack(Xs).tocsr()\n",
    "        else:\n",
    "            Xs = self.merge_dataframes_by_column(Xs)\n",
    "        return Xs"
   ],
   "metadata": {
    "execution": {
     "iopub.status.busy": "2023-04-23T14:41:33.997773Z",
     "iopub.execute_input": "2023-04-23T14:41:33.998218Z",
     "iopub.status.idle": "2023-04-23T14:41:34.014549Z",
     "shell.execute_reply.started": "2023-04-23T14:41:33.998184Z",
     "shell.execute_reply": "2023-04-23T14:41:34.012989Z"
    },
    "trusted": true
   },
   "execution_count": 101,
   "outputs": []
  },
  {
   "cell_type": "code",
   "source": [
    "import pandas as pd\n",
    "import numpy as np\n",
    "\n",
    "from sklearn.impute import MissingIndicator\n",
    "\n",
    "\n",
    "class PandasMissingIndicator(MissingIndicator):\n",
    "    \"\"\"Missing indicator transformer for pandas.\"\"\"\n",
    "\n",
    "    def __init__(self, **kwargs):\n",
    "        super().__init__(features='all', **kwargs)\n",
    "\n",
    "        self._suffix = kwargs.get('suffix', '_missing')\n",
    "\n",
    "    def fit(self, x, y=None):\n",
    "        super().fit(x, y)\n",
    "        return self\n",
    "\n",
    "    def fit_transform(self, x, y=None):\n",
    "        return self.fit(x).transform(x)\n",
    "\n",
    "    def transform(self, x):\n",
    "        assert isinstance(x, pd.DataFrame)\n",
    "\n",
    "        matrix = super().transform(x)\n",
    "\n",
    "        for index, col in enumerate(x.columns):\n",
    "            row = matrix[:, index]\n",
    "            col_name = col + self._suffix\n",
    "\n",
    "            if np.any(row == True):\n",
    "                x.loc[:, col_name] = row\n",
    "\n",
    "                x[col_name] = x[col_name].astype(int)\n",
    "\n",
    "        return x"
   ],
   "metadata": {
    "execution": {
     "iopub.status.busy": "2023-04-23T14:41:34.406226Z",
     "iopub.execute_input": "2023-04-23T14:41:34.406705Z",
     "iopub.status.idle": "2023-04-23T14:41:34.718868Z",
     "shell.execute_reply.started": "2023-04-23T14:41:34.406656Z",
     "shell.execute_reply": "2023-04-23T14:41:34.717488Z"
    },
    "trusted": true
   },
   "execution_count": 102,
   "outputs": []
  },
  {
   "cell_type": "code",
   "source": [
    "import pandas as pd\n",
    "import numpy as np\n",
    "\n",
    "from sklearn.impute import MissingIndicator\n",
    "\n",
    "\n",
    "class PandasMissingIndicator(MissingIndicator):\n",
    "    \"\"\"Missing indicator transformer for pandas.\"\"\"\n",
    "\n",
    "    def __init__(self, **kwargs):\n",
    "        super().__init__(features='all', **kwargs)\n",
    "\n",
    "        self._suffix = kwargs.get('suffix', '_missing')\n",
    "\n",
    "    def fit(self, x, y=None):\n",
    "        super().fit(x, y)\n",
    "        return self\n",
    "\n",
    "    def fit_transform(self, x, y=None):\n",
    "        return self.fit(x).transform(x)\n",
    "\n",
    "    def transform(self, x):\n",
    "        assert isinstance(x, pd.DataFrame)\n",
    "\n",
    "        matrix = super().transform(x)\n",
    "\n",
    "        for index, col in enumerate(x.columns):\n",
    "            row = matrix[:, index]\n",
    "            col_name = col + self._suffix\n",
    "\n",
    "            if np.any(row == True):\n",
    "                x.loc[:, col_name] = row\n",
    "\n",
    "                x[col_name] = x[col_name].astype(int)\n",
    "\n",
    "        return x"
   ],
   "metadata": {
    "execution": {
     "iopub.status.busy": "2023-04-23T14:41:34.789217Z",
     "iopub.execute_input": "2023-04-23T14:41:34.790441Z",
     "iopub.status.idle": "2023-04-23T14:41:34.801526Z",
     "shell.execute_reply.started": "2023-04-23T14:41:34.790394Z",
     "shell.execute_reply": "2023-04-23T14:41:34.799865Z"
    },
    "trusted": true
   },
   "execution_count": 103,
   "outputs": []
  },
  {
   "cell_type": "code",
   "source": [
    "import pandas as pd\n",
    "\n",
    "from sklearn.impute import SimpleImputer\n",
    "\n",
    "\n",
    "class PandasSimpleImputer(SimpleImputer):\n",
    "    \"\"\"Simple imputer transformer for pandas.\"\"\"\n",
    "    \n",
    "    def __init__(self, **kwargs):\n",
    "        super().__init__(**kwargs)\n",
    "\n",
    "    def fit(self, x, y=None):\n",
    "        return super().fit(x, y)\n",
    "\n",
    "    def fit_transform(self, x, y=None):\n",
    "        return self.fit(x).transform(x)\n",
    "\n",
    "    def transform(self, x):\n",
    "        assert isinstance(x, pd.DataFrame)\n",
    "\n",
    "        matrix = super().transform(x)\n",
    "\n",
    "        for index, col in enumerate(x.columns):\n",
    "            if '_missing' in col:\n",
    "                continue\n",
    "            x.loc[:, col] = matrix[:, index]\n",
    "\n",
    "        return x"
   ],
   "metadata": {
    "execution": {
     "iopub.status.busy": "2023-04-23T14:41:35.125335Z",
     "iopub.execute_input": "2023-04-23T14:41:35.126258Z",
     "iopub.status.idle": "2023-04-23T14:41:35.136861Z",
     "shell.execute_reply.started": "2023-04-23T14:41:35.126209Z",
     "shell.execute_reply": "2023-04-23T14:41:35.135674Z"
    },
    "trusted": true
   },
   "execution_count": 104,
   "outputs": []
  },
  {
   "cell_type": "code",
   "source": [
    "import pandas as pd\n",
    "\n",
    "from sklearn.base import BaseEstimator, TransformerMixin\n",
    "\n",
    "\n",
    "class PandasOneHotEncoder(BaseEstimator, TransformerMixin):\n",
    "    def fit(self, df, y=None):\n",
    "        return self\n",
    "\n",
    "    def transform(self, df):\n",
    "        assert isinstance(df, pd.DataFrame)\n",
    "\n",
    "        columns = list(filter(lambda x: '_missing' not in x, df.columns))\n",
    "        return pd.get_dummies(df, columns=columns)"
   ],
   "metadata": {
    "execution": {
     "iopub.status.busy": "2023-04-23T14:41:35.432909Z",
     "iopub.execute_input": "2023-04-23T14:41:35.433893Z",
     "iopub.status.idle": "2023-04-23T14:41:35.440852Z",
     "shell.execute_reply.started": "2023-04-23T14:41:35.433847Z",
     "shell.execute_reply": "2023-04-23T14:41:35.439814Z"
    },
    "trusted": true
   },
   "execution_count": 105,
   "outputs": []
  },
  {
   "cell_type": "code",
   "source": [
    "import pandas as pd\n",
    "import numpy as np\n",
    "\n",
    "from sklearn.base import BaseEstimator, TransformerMixin\n",
    "\n",
    "\n",
    "class SelectFeatures(BaseEstimator, TransformerMixin):\n",
    "    \"\"\"\n",
    "    Select subset of features from dataframe.\n",
    "    \n",
    "    :param columns: columns to choose from dataframe.\n",
    "    \"\"\"\n",
    "\n",
    "    def __init__(self, columns):\n",
    "        self.columns = columns\n",
    "\n",
    "    def fit(self, x, y=None):\n",
    "        return self\n",
    "\n",
    "    def transform(self, df):\n",
    "        assert isinstance(df, pd.DataFrame)\n",
    "\n",
    "        return df[self.columns]\n",
    "\n",
    "\n",
    "class FilterColumnsByCountOfMissingValues(BaseEstimator, TransformerMixin):\n",
    "    \"\"\"\n",
    "    Filter columns by count of missing values.\n",
    "    \n",
    "    :param threshold: threshold ratio of missing values in column.\n",
    "    \"\"\"\n",
    "\n",
    "    def __init__(self, threshold, **kwargs):\n",
    "        self.threshold = threshold\n",
    "\n",
    "    def fit(self, x, y=None):\n",
    "        return self\n",
    "\n",
    "    def transform(self, df):\n",
    "        assert isinstance(df, pd.DataFrame)\n",
    "\n",
    "        to_drop = df.columns[1 - df.isnull().mean() < self.threshold].tolist()\n",
    "\n",
    "        return df.drop(columns=to_drop)\n",
    "\n",
    "\n",
    "class MergeSmallCategories(TransformerMixin):\n",
    "    \"\"\"\n",
    "    Merge too small classes in categorical attribute into 'other' class.\n",
    "    Taken from other author's project:\n",
    "    https://github.com/pmacinec/diabetes-patients-readmissions-prediction/\n",
    "    :param threshold: threshold of percentage frequency under which \n",
    "        classes will be merged into 'other' class.\n",
    "    \"\"\"\n",
    "\n",
    "    def __init__(self, threshold=0.05, **kwargs):\n",
    "        self.threshold = threshold\n",
    "        self.mapping = {}\n",
    "\n",
    "    def fit(self, df, y=None):\n",
    "        for col in df.columns:\n",
    "            if '_missing' in col:\n",
    "                continue\n",
    "            values = df[col].value_counts(normalize=True)\n",
    "            for name, value in values.iteritems():\n",
    "                if value < self.threshold:\n",
    "                    self.mapping[name] = 'other'\n",
    "        return self\n",
    "\n",
    "    def transform(self, df, **transform_params):\n",
    "        for col in df.columns:\n",
    "            if '_missing' in col:\n",
    "                continue\n",
    "            df[col] = df[col].apply(\n",
    "                lambda x: self.get_value(x)\n",
    "            )\n",
    "        return df\n",
    "\n",
    "    def get_value(self, value):\n",
    "        \"\"\"\n",
    "        Get value from mapping with handling special cases.\n",
    "        :param value: value to be found in mapping.\n",
    "        :return: mapped value or None, if value is unknown or NaN.\n",
    "        \"\"\"\n",
    "        if pd.isna(value):\n",
    "            return None\n",
    "        if value not in self.mapping.keys():\n",
    "            return value\n",
    "        return self.mapping[value]\n",
    "\n",
    "\n",
    "class EmailProviderTransform(TransformerMixin, BaseEstimator):\n",
    "    \"\"\"\n",
    "    Transform email addresses into domains only.\n",
    "    :param columns: columns containing email addresses.\n",
    "    \"\"\"\n",
    "\n",
    "    def __init__(self, columns):\n",
    "        self.columns = columns\n",
    "\n",
    "    def fit(self, x, y=None):\n",
    "        return self\n",
    "\n",
    "    def transform(self, df, y=None, copy=None):\n",
    "        def transform_email(value):\n",
    "            \"\"\"\n",
    "            Transform email domains into domain names only.\n",
    "            We have found in the data, that some email domains are\n",
    "            repeated (e.g. `gmail` and `gmail.com`). Those domains\n",
    "            should be aggregated into simply `gmail`.\n",
    "            :param value: value to be transformed.\n",
    "            :return: transformed email domain.\n",
    "            \"\"\"\n",
    "            if value is np.nan:\n",
    "                return value\n",
    "            return value.split('.')[0]\n",
    "\n",
    "        for col in self.columns:\n",
    "            if col not in df.columns:\n",
    "                continue\n",
    "            df[col] = df[col].astype('str').apply(transform_email).astype('str')\n",
    "\n",
    "        return df\n",
    "\n",
    "\n",
    "class Normalizer(TransformerMixin):\n",
    "    \"\"\"Normalize numerical attributes of dataframe.\"\"\"\n",
    "\n",
    "    def __init__(self):\n",
    "        self.means = {}\n",
    "        self.stds = {}\n",
    "\n",
    "    def fit(self, df, y=None):\n",
    "        for col in df.columns:\n",
    "            if '_missing' in col:\n",
    "                continue\n",
    "            self.means[col] = df[col].astype(float).mean()\n",
    "            self.stds[col] = df[col].astype(float).std()\n",
    "        return self\n",
    "\n",
    "    def transform(self, df):\n",
    "        for col in df.columns:\n",
    "            if '_missing' in col:\n",
    "                continue\n",
    "            df[col] = (df[col] - self.means[col]) / self.stds[col]\n",
    "        return df"
   ],
   "metadata": {
    "execution": {
     "iopub.status.busy": "2023-04-23T14:41:35.784731Z",
     "iopub.execute_input": "2023-04-23T14:41:35.785565Z",
     "iopub.status.idle": "2023-04-23T14:41:35.808117Z",
     "shell.execute_reply.started": "2023-04-23T14:41:35.785517Z",
     "shell.execute_reply": "2023-04-23T14:41:35.806695Z"
    },
    "trusted": true
   },
   "execution_count": 106,
   "outputs": []
  },
  {
   "cell_type": "code",
   "source": [
    "categoric_features = train.select_dtypes(include=np.object).columns.to_list()\n",
    "numeric_features = train.select_dtypes(exclude=np.object).columns.to_list()\n",
    "label_feature = 'isFraud'\n",
    "\n",
    "numeric_features.remove('TransactionID') # ID should not be used\n",
    "numeric_features.remove(label_feature)\n",
    "\n",
    "pipeline = PandasFeatureUnion([\n",
    "    ('numeric_features', make_pipeline(\n",
    "        SelectFeatures(numeric_features),\n",
    "        FilterColumnsByCountOfMissingValues(0.5),\n",
    "        PandasMissingIndicator(),\n",
    "        PandasSimpleImputer(strategy='mean'),\n",
    "        Normalizer()\n",
    "    )),\n",
    "    ('categoric_features', make_pipeline(\n",
    "        SelectFeatures(categoric_features),\n",
    "        FilterColumnsByCountOfMissingValues(0.5),\n",
    "        EmailProviderTransform(['P_emaildomain', 'R_emaildomain']),\n",
    "        PandasMissingIndicator(),\n",
    "        PandasSimpleImputer(strategy='most_frequent'),\n",
    "        MergeSmallCategories(),\n",
    "        PandasOneHotEncoder()\n",
    "    )),\n",
    "    ('label_feature', make_pipeline(\n",
    "        SelectFeatures([label_feature])\n",
    "    ))\n",
    "])"
   ],
   "metadata": {
    "execution": {
     "iopub.status.busy": "2023-04-23T14:41:37.168194Z",
     "iopub.execute_input": "2023-04-23T14:41:37.168680Z",
     "iopub.status.idle": "2023-04-23T14:41:41.208611Z",
     "shell.execute_reply.started": "2023-04-23T14:41:37.168633Z",
     "shell.execute_reply": "2023-04-23T14:41:41.207503Z"
    },
    "trusted": true
   },
   "execution_count": 107,
   "outputs": []
  },
  {
   "cell_type": "code",
   "execution_count": 107,
   "outputs": [],
   "source": [],
   "metadata": {
    "collapsed": false
   }
  },
  {
   "cell_type": "code",
   "execution_count": 108,
   "outputs": [
    {
     "name": "stdout",
     "output_type": "stream",
     "text": [
      "CPU times: user 1min 8s, sys: 1min 18s, total: 2min 27s\n",
      "Wall time: 2min 46s\n"
     ]
    }
   ],
   "source": [
    "%%time\n",
    "train = pipeline.fit_transform(train)"
   ],
   "metadata": {
    "collapsed": false
   }
  },
  {
   "cell_type": "code",
   "source": [
    "from NiaPy.benchmarks import Benchmark\n",
    "\n",
    "\n",
    "class ClassificationBenchmark(Benchmark):\n",
    "    \"\"\"\n",
    "    NiaPy benchmark for classification task.\n",
    "\n",
    "    :param model_fn: function which returns sklearn model.\n",
    "    :param eval_fn: function(y_test, y_pred) which evaluates predictions\n",
    "         and returns a scalar.\n",
    "    :param x_train: train data.\n",
    "    :param y_train: train labels.\n",
    "    :param x_test: test data.\n",
    "    :param y_test: test labels.\n",
    "    \"\"\"\n",
    "    def __init__(self, model_fn, eval_fn, x_train, y_train, x_test, y_test):\n",
    "        self.x_train = x_train\n",
    "        self.y_train = y_train\n",
    "        self.x_test = x_test\n",
    "        self.y_test = y_test\n",
    "        self.model_fn = model_fn\n",
    "        self.eval_fn = eval_fn\n",
    "\n",
    "        Benchmark.__init__(self, 0, 1)\n",
    "\n",
    "    def get_length(self):\n",
    "        \"\"\"\n",
    "        Get length of the vector which is being optimized.\n",
    "\n",
    "        :return: length of the vector which is being optimized.\n",
    "        \"\"\"\n",
    "        return len(self.x_train.columns)\n",
    "\n",
    "    def select_columns(self, solution_vec):\n",
    "        \"\"\"\n",
    "        Select columns based on the solution vector.\n",
    "\n",
    "        :param solution_vec: solution of the problem as a vector.\n",
    "        :return: list of column names based on the solution vector.\n",
    "        \"\"\"\n",
    "        return self.x_train.columns[solution_vec >= 0.5].tolist()\n",
    "\n",
    "    def function(self):\n",
    "        def evaluate(_, solution_vec):\n",
    "            selected_columns = self.select_columns(solution_vec)\n",
    "\n",
    "            # fix of incorrect serialization when using multi threading module\n",
    "            if len(selected_columns) == 1 and \\\n",
    "                    not isinstance(selected_columns[0], str):\n",
    "                selected_columns = selected_columns[0]\n",
    "\n",
    "            if len(selected_columns) < 1:\n",
    "                # inverted score, since the optimizer minimizes the task\n",
    "                return 1 - 0\n",
    "\n",
    "            clf = self.model_fn()\n",
    "            clf = clf.fit(self.x_train[selected_columns], self.y_train)\n",
    "\n",
    "            y_pred = clf.predict(self.x_test[selected_columns])\n",
    "            score = self.eval_fn(self.y_test, y_pred)\n",
    "\n",
    "            # inverted score, since the optimizer minimizes the task\n",
    "            return 1 - score\n",
    "\n",
    "        return evaluate"
   ],
   "metadata": {
    "execution": {
     "iopub.status.busy": "2023-04-23T14:58:24.933217Z",
     "iopub.execute_input": "2023-04-23T14:58:24.934296Z",
     "iopub.status.idle": "2023-04-23T14:58:24.945831Z",
     "shell.execute_reply.started": "2023-04-23T14:58:24.934238Z",
     "shell.execute_reply": "2023-04-23T14:58:24.944828Z"
    },
    "trusted": true
   },
   "execution_count": 109,
   "outputs": []
  },
  {
   "cell_type": "code",
   "source": [
    "import sys\n",
    "sys.path.append('..')\n",
    "\n",
    "from sklearn.model_selection import train_test_split\n",
    "from sklearn.metrics import roc_auc_score, f1_score\n",
    "from sklearn.tree import DecisionTreeClassifier\n",
    "\n",
    "from NiaPy.task import StoppingTask, OptimizationType\n",
    "from NiaPy.algorithms.basic import GreyWolfOptimizer, FireflyAlgorithm, GeneticAlgorithm, \\\n",
    "    BatAlgorithm, ParticleSwarmOptimization\n",
    "from tqdm import tqdm"
   ],
   "metadata": {
    "execution": {
     "iopub.status.busy": "2023-04-23T14:58:26.911906Z",
     "iopub.execute_input": "2023-04-23T14:58:26.912377Z",
     "iopub.status.idle": "2023-04-23T14:58:26.919000Z",
     "shell.execute_reply.started": "2023-04-23T14:58:26.912338Z",
     "shell.execute_reply": "2023-04-23T14:58:26.917971Z"
    },
    "trusted": true
   },
   "execution_count": 110,
   "outputs": []
  },
  {
   "cell_type": "code",
   "source": [
    "def optimize(benchmark, algorithm, nGEN, num_runs = 5):\n",
    "    \"\"\"\n",
    "    Optimize task with provided algorithm.\n",
    "    \n",
    "    :param benchmark: NiaPy.Benchmark to optimize.\n",
    "    :param algorithm: algorithm object to use for optimization task.\n",
    "    :param nGEN: number of generations.\n",
    "    :param num_runs: number of algorithm runs (defaults to 5).\n",
    "    \"\"\"\n",
    "    best_columns = None\n",
    "    best_score = 0\n",
    "\n",
    "    for i in tqdm(range(num_runs)):\n",
    "        # when using OptimizationType.MAXIMIZATION, the library will fail\n",
    "        # we use OptimizationType.MINIMIZATION instead and invert the score\n",
    "        task = StoppingTask(\n",
    "            D=benchmark.get_length(),\n",
    "            nGEN=nGEN,\n",
    "            optType=OptimizationType.MINIMIZATION,\n",
    "            benchmark=benchmark\n",
    "        )\n",
    "\n",
    "        solution_vec, score = algorithm.run(task=task)\n",
    "        # invert the score\n",
    "        score = 1 - score\n",
    "        columns = benchmark.select_columns(solution_vec)\n",
    "\n",
    "        print('--------------')\n",
    "        print(f'Run {i + 1}')\n",
    "        print('--------------')\n",
    "        print(f'Score: {score}')\n",
    "        print(f'Number of features selected: {len(columns)}\\n')\n",
    "        print('\\n')\n",
    "\n",
    "        if score > best_score:\n",
    "            best_score = score\n",
    "            best_columns = columns\n",
    "\n",
    "    print(f'\\nBest score of {num_runs} runs: {best_score}')\n",
    "    print(f'Number of features selected: {len(best_columns)}')\n",
    "\n",
    "    return best_columns"
   ],
   "metadata": {
    "execution": {
     "iopub.status.busy": "2023-04-23T14:58:27.688505Z",
     "iopub.execute_input": "2023-04-23T14:58:27.689635Z",
     "iopub.status.idle": "2023-04-23T14:58:27.702611Z",
     "shell.execute_reply.started": "2023-04-23T14:58:27.689545Z",
     "shell.execute_reply": "2023-04-23T14:58:27.701094Z"
    },
    "trusted": true
   },
   "execution_count": 111,
   "outputs": []
  },
  {
   "cell_type": "code",
   "execution_count": 112,
   "outputs": [
    {
     "data": {
      "text/plain": "TransactionDT                        float64\nTransactionAmt                       float64\ncard1                                float64\ncard2                                float64\ncard3                                float64\n                                      ...   \nP_emaildomain_transformed_gmail        uint8\nP_emaildomain_transformed_hotmail      uint8\nP_emaildomain_transformed_other        uint8\nP_emaildomain_transformed_yahoo        uint8\nisFraud                                int64\nLength: 443, dtype: object"
     },
     "execution_count": 112,
     "metadata": {},
     "output_type": "execute_result"
    }
   ],
   "source": [
    "train.dtypes"
   ],
   "metadata": {
    "collapsed": false
   }
  },
  {
   "cell_type": "code",
   "execution_count": 73,
   "outputs": [],
   "source": [
    "# object_columns = ['ProductCD', 'card4', 'card6', 'P_emaildomain', 'R_emaildomain', 'M1', 'M2', 'M3', 'M4',\n",
    "#                   'M5', 'M6', 'M7', 'M8', 'M9', 'id_12', 'id_15', 'id_16', 'id_23', 'id_27', 'id_28',\n",
    "#                   'id_29', 'id_30', 'id_31', 'id_33', 'id_34', 'id_35', 'id_36', 'id_37', 'id_38',\n",
    "#                   'DeviceType', 'DeviceInfo', 'P_emaildomain_transformed', 'R_emaildomain_transformed']\n",
    "#\n",
    "# train = pd.get_dummies(train,\n",
    "#                        prefix=object_columns,\n",
    "#                        columns=object_columns,\n",
    "#                        drop_first=True)"
   ],
   "metadata": {
    "collapsed": false
   }
  },
  {
   "cell_type": "code",
   "execution_count": 74,
   "outputs": [],
   "source": [
    "# train = train.fillna()"
   ],
   "metadata": {
    "collapsed": false
   }
  },
  {
   "cell_type": "code",
   "source": [
    "from sklearn.model_selection import train_test_split\n",
    "\n",
    "X_train, X_val, y_train, y_val = train_test_split(train.drop(columns=['isFraud']), \n",
    "                                                     train['isFraud'],\n",
    "                                                     train_size=0.2,\n",
    "                                                     test_size=0.04)"
   ],
   "metadata": {
    "execution": {
     "iopub.status.busy": "2023-04-23T14:58:28.284918Z",
     "iopub.execute_input": "2023-04-23T14:58:28.285902Z",
     "iopub.status.idle": "2023-04-23T14:58:34.676826Z",
     "shell.execute_reply.started": "2023-04-23T14:58:28.285840Z",
     "shell.execute_reply": "2023-04-23T14:58:34.675654Z"
    },
    "trusted": true
   },
   "execution_count": 113,
   "outputs": []
  },
  {
   "cell_type": "code",
   "execution_count": 76,
   "outputs": [
    {
     "data": {
      "text/plain": "        TransactionDT  TransactionAmt     card1     card2     card3     card5  \\\n7277        -1.545347       -0.497006 -1.136409 -0.795398  2.809285 -2.367145   \n401273       0.593345       -0.315840  0.755588  1.228930 -0.282202  0.650220   \n233509      -0.400245        1.442211 -1.447763 -1.676651 -0.282202  0.650220   \n54442       -1.320137        0.104209  0.032291 -0.878414 -0.282202  0.601553   \n256047      -0.269470        1.751833 -0.972775 -1.606406 -0.282202 -2.367145   \n...               ...             ...       ...       ...       ...       ...   \n207757      -0.557567       -0.113217 -1.616907 -1.606406 -0.282202  0.650220   \n579650       1.749642       -0.113217 -1.684646 -0.852871 -0.282202  0.650220   \n417069       0.684281       -0.217330  1.054292 -1.229638 -0.282202 -2.367145   \n249099      -0.310159        0.969729  1.054292 -1.229638 -0.282202 -2.367145   \n145267      -0.947433       -0.443327 -1.588342  0.213573 -0.282202  0.601553   \n\n               addr1   addr2        C1        C2  ...  M1_other  M2_T  \\\n7277   -5.926491e-16  0.0000 -0.083047 -0.079329  ...         0     1   \n401273 -1.383882e+00  0.0786 -0.090533 -0.092260  ...         0     1   \n233509 -1.112806e+00  0.0786 -0.098020 -0.092260  ...         0     1   \n54442   2.529993e-01  0.0786 -0.098020 -0.092260  ...         0     1   \n256047  2.025418e+00  0.0786 -0.090533 -0.092260  ...         0     1   \n...              ...     ...       ...       ...  ...       ...   ...   \n207757 -1.112806e+00  0.0786 -0.090533 -0.079329  ...         0     1   \n579650  2.025418e+00  0.0786  0.703064  0.606006  ...         0     1   \n417069 -9.042859e-01  0.0786 -0.060586 -0.072864  ...         0     1   \n249099 -9.042859e-01  0.0786 -0.098020 -0.092260  ...         0     1   \n145267  1.514544e+00  0.0786 -0.098020 -0.092260  ...         0     1   \n\n        M2_other  M3_T  M3_other  M4_M0  M4_M1  M4_M2  M6_T  M6_other  \n7277           0     1         0      0      0      1     0         1  \n401273         0     1         0      1      0      0     0         1  \n233509         0     1         0      1      0      0     1         0  \n54442          0     1         0      1      0      0     1         0  \n256047         0     1         0      1      0      0     1         0  \n...          ...   ...       ...    ...    ...    ...   ...       ...  \n207757         0     0         1      1      0      0     1         0  \n579650         0     1         0      1      0      0     0         1  \n417069         0     1         0      1      0      0     1         0  \n249099         0     1         0      1      0      0     1         0  \n145267         0     1         0      1      0      0     0         1  \n\n[118108 rows x 436 columns]",
      "text/html": "<div>\n<style scoped>\n    .dataframe tbody tr th:only-of-type {\n        vertical-align: middle;\n    }\n\n    .dataframe tbody tr th {\n        vertical-align: top;\n    }\n\n    .dataframe thead th {\n        text-align: right;\n    }\n</style>\n<table border=\"1\" class=\"dataframe\">\n  <thead>\n    <tr style=\"text-align: right;\">\n      <th></th>\n      <th>TransactionDT</th>\n      <th>TransactionAmt</th>\n      <th>card1</th>\n      <th>card2</th>\n      <th>card3</th>\n      <th>card5</th>\n      <th>addr1</th>\n      <th>addr2</th>\n      <th>C1</th>\n      <th>C2</th>\n      <th>...</th>\n      <th>M1_other</th>\n      <th>M2_T</th>\n      <th>M2_other</th>\n      <th>M3_T</th>\n      <th>M3_other</th>\n      <th>M4_M0</th>\n      <th>M4_M1</th>\n      <th>M4_M2</th>\n      <th>M6_T</th>\n      <th>M6_other</th>\n    </tr>\n  </thead>\n  <tbody>\n    <tr>\n      <th>7277</th>\n      <td>-1.545347</td>\n      <td>-0.497006</td>\n      <td>-1.136409</td>\n      <td>-0.795398</td>\n      <td>2.809285</td>\n      <td>-2.367145</td>\n      <td>-5.926491e-16</td>\n      <td>0.0000</td>\n      <td>-0.083047</td>\n      <td>-0.079329</td>\n      <td>...</td>\n      <td>0</td>\n      <td>1</td>\n      <td>0</td>\n      <td>1</td>\n      <td>0</td>\n      <td>0</td>\n      <td>0</td>\n      <td>1</td>\n      <td>0</td>\n      <td>1</td>\n    </tr>\n    <tr>\n      <th>401273</th>\n      <td>0.593345</td>\n      <td>-0.315840</td>\n      <td>0.755588</td>\n      <td>1.228930</td>\n      <td>-0.282202</td>\n      <td>0.650220</td>\n      <td>-1.383882e+00</td>\n      <td>0.0786</td>\n      <td>-0.090533</td>\n      <td>-0.092260</td>\n      <td>...</td>\n      <td>0</td>\n      <td>1</td>\n      <td>0</td>\n      <td>1</td>\n      <td>0</td>\n      <td>1</td>\n      <td>0</td>\n      <td>0</td>\n      <td>0</td>\n      <td>1</td>\n    </tr>\n    <tr>\n      <th>233509</th>\n      <td>-0.400245</td>\n      <td>1.442211</td>\n      <td>-1.447763</td>\n      <td>-1.676651</td>\n      <td>-0.282202</td>\n      <td>0.650220</td>\n      <td>-1.112806e+00</td>\n      <td>0.0786</td>\n      <td>-0.098020</td>\n      <td>-0.092260</td>\n      <td>...</td>\n      <td>0</td>\n      <td>1</td>\n      <td>0</td>\n      <td>1</td>\n      <td>0</td>\n      <td>1</td>\n      <td>0</td>\n      <td>0</td>\n      <td>1</td>\n      <td>0</td>\n    </tr>\n    <tr>\n      <th>54442</th>\n      <td>-1.320137</td>\n      <td>0.104209</td>\n      <td>0.032291</td>\n      <td>-0.878414</td>\n      <td>-0.282202</td>\n      <td>0.601553</td>\n      <td>2.529993e-01</td>\n      <td>0.0786</td>\n      <td>-0.098020</td>\n      <td>-0.092260</td>\n      <td>...</td>\n      <td>0</td>\n      <td>1</td>\n      <td>0</td>\n      <td>1</td>\n      <td>0</td>\n      <td>1</td>\n      <td>0</td>\n      <td>0</td>\n      <td>1</td>\n      <td>0</td>\n    </tr>\n    <tr>\n      <th>256047</th>\n      <td>-0.269470</td>\n      <td>1.751833</td>\n      <td>-0.972775</td>\n      <td>-1.606406</td>\n      <td>-0.282202</td>\n      <td>-2.367145</td>\n      <td>2.025418e+00</td>\n      <td>0.0786</td>\n      <td>-0.090533</td>\n      <td>-0.092260</td>\n      <td>...</td>\n      <td>0</td>\n      <td>1</td>\n      <td>0</td>\n      <td>1</td>\n      <td>0</td>\n      <td>1</td>\n      <td>0</td>\n      <td>0</td>\n      <td>1</td>\n      <td>0</td>\n    </tr>\n    <tr>\n      <th>...</th>\n      <td>...</td>\n      <td>...</td>\n      <td>...</td>\n      <td>...</td>\n      <td>...</td>\n      <td>...</td>\n      <td>...</td>\n      <td>...</td>\n      <td>...</td>\n      <td>...</td>\n      <td>...</td>\n      <td>...</td>\n      <td>...</td>\n      <td>...</td>\n      <td>...</td>\n      <td>...</td>\n      <td>...</td>\n      <td>...</td>\n      <td>...</td>\n      <td>...</td>\n      <td>...</td>\n    </tr>\n    <tr>\n      <th>207757</th>\n      <td>-0.557567</td>\n      <td>-0.113217</td>\n      <td>-1.616907</td>\n      <td>-1.606406</td>\n      <td>-0.282202</td>\n      <td>0.650220</td>\n      <td>-1.112806e+00</td>\n      <td>0.0786</td>\n      <td>-0.090533</td>\n      <td>-0.079329</td>\n      <td>...</td>\n      <td>0</td>\n      <td>1</td>\n      <td>0</td>\n      <td>0</td>\n      <td>1</td>\n      <td>1</td>\n      <td>0</td>\n      <td>0</td>\n      <td>1</td>\n      <td>0</td>\n    </tr>\n    <tr>\n      <th>579650</th>\n      <td>1.749642</td>\n      <td>-0.113217</td>\n      <td>-1.684646</td>\n      <td>-0.852871</td>\n      <td>-0.282202</td>\n      <td>0.650220</td>\n      <td>2.025418e+00</td>\n      <td>0.0786</td>\n      <td>0.703064</td>\n      <td>0.606006</td>\n      <td>...</td>\n      <td>0</td>\n      <td>1</td>\n      <td>0</td>\n      <td>1</td>\n      <td>0</td>\n      <td>1</td>\n      <td>0</td>\n      <td>0</td>\n      <td>0</td>\n      <td>1</td>\n    </tr>\n    <tr>\n      <th>417069</th>\n      <td>0.684281</td>\n      <td>-0.217330</td>\n      <td>1.054292</td>\n      <td>-1.229638</td>\n      <td>-0.282202</td>\n      <td>-2.367145</td>\n      <td>-9.042859e-01</td>\n      <td>0.0786</td>\n      <td>-0.060586</td>\n      <td>-0.072864</td>\n      <td>...</td>\n      <td>0</td>\n      <td>1</td>\n      <td>0</td>\n      <td>1</td>\n      <td>0</td>\n      <td>1</td>\n      <td>0</td>\n      <td>0</td>\n      <td>1</td>\n      <td>0</td>\n    </tr>\n    <tr>\n      <th>249099</th>\n      <td>-0.310159</td>\n      <td>0.969729</td>\n      <td>1.054292</td>\n      <td>-1.229638</td>\n      <td>-0.282202</td>\n      <td>-2.367145</td>\n      <td>-9.042859e-01</td>\n      <td>0.0786</td>\n      <td>-0.098020</td>\n      <td>-0.092260</td>\n      <td>...</td>\n      <td>0</td>\n      <td>1</td>\n      <td>0</td>\n      <td>1</td>\n      <td>0</td>\n      <td>1</td>\n      <td>0</td>\n      <td>0</td>\n      <td>1</td>\n      <td>0</td>\n    </tr>\n    <tr>\n      <th>145267</th>\n      <td>-0.947433</td>\n      <td>-0.443327</td>\n      <td>-1.588342</td>\n      <td>0.213573</td>\n      <td>-0.282202</td>\n      <td>0.601553</td>\n      <td>1.514544e+00</td>\n      <td>0.0786</td>\n      <td>-0.098020</td>\n      <td>-0.092260</td>\n      <td>...</td>\n      <td>0</td>\n      <td>1</td>\n      <td>0</td>\n      <td>1</td>\n      <td>0</td>\n      <td>1</td>\n      <td>0</td>\n      <td>0</td>\n      <td>0</td>\n      <td>1</td>\n    </tr>\n  </tbody>\n</table>\n<p>118108 rows × 436 columns</p>\n</div>"
     },
     "execution_count": 76,
     "metadata": {},
     "output_type": "execute_result"
    }
   ],
   "source": [
    "X_train"
   ],
   "metadata": {
    "collapsed": false
   }
  },
  {
   "cell_type": "code",
   "source": [
    "y_train"
   ],
   "metadata": {
    "_kg_hide-output": false,
    "execution": {
     "iopub.status.busy": "2023-04-23T14:58:34.678670Z",
     "iopub.execute_input": "2023-04-23T14:58:34.679022Z",
     "iopub.status.idle": "2023-04-23T14:58:34.689682Z",
     "shell.execute_reply.started": "2023-04-23T14:58:34.678990Z",
     "shell.execute_reply": "2023-04-23T14:58:34.688212Z"
    },
    "trusted": true
   },
   "execution_count": 77,
   "outputs": [
    {
     "data": {
      "text/plain": "7277      0\n401273    0\n233509    0\n54442     0\n256047    0\n         ..\n207757    0\n579650    0\n417069    0\n249099    0\n145267    0\nName: isFraud, Length: 118108, dtype: int64"
     },
     "execution_count": 77,
     "metadata": {},
     "output_type": "execute_result"
    }
   ]
  },
  {
   "cell_type": "code",
   "execution_count": 118,
   "outputs": [],
   "source": [
    "from imblearn.under_sampling import RandomUnderSampler\n",
    "from imblearn.over_sampling import SMOTE\n",
    "\n",
    "\n",
    "def random_undersample(x, y):\n",
    "    \"\"\"\n",
    "    Undersample data by random choosing samples from majority class.\n",
    "    :param x: train data features.\n",
    "    :param y: train data labels.\n",
    "    :return: x, y after undersampling.\n",
    "    \"\"\"\n",
    "    rus = RandomUnderSampler(random_state=42)\n",
    "    return rus.fit_resample(x, y)"
   ],
   "metadata": {
    "collapsed": false
   }
  },
  {
   "cell_type": "code",
   "execution_count": 119,
   "outputs": [],
   "source": [
    "X_train, y_train = random_undersample(X_train, y_train)"
   ],
   "metadata": {
    "collapsed": false
   }
  },
  {
   "cell_type": "code",
   "execution_count": 80,
   "outputs": [],
   "source": [
    "def model_fn():\n",
    "    return DecisionTreeClassifier(random_state=42)"
   ],
   "metadata": {
    "collapsed": false
   }
  },
  {
   "cell_type": "code",
   "execution_count": 84,
   "outputs": [],
   "source": [
    "from sklearn.metrics import accuracy_score"
   ],
   "metadata": {
    "collapsed": false
   }
  },
  {
   "cell_type": "code",
   "source": [
    "benchmark = ClassificationBenchmark(model_fn,\n",
    "                                    accuracy_score,\n",
    "                                    X_train,\n",
    "                                    y_train,\n",
    "                                    X_val,\n",
    "                                    y_val)"
   ],
   "metadata": {
    "execution": {
     "iopub.status.busy": "2023-04-23T14:58:47.422261Z",
     "iopub.execute_input": "2023-04-23T14:58:47.422883Z",
     "iopub.status.idle": "2023-04-23T14:58:47.428802Z",
     "shell.execute_reply.started": "2023-04-23T14:58:47.422835Z",
     "shell.execute_reply": "2023-04-23T14:58:47.427799Z"
    },
    "trusted": true
   },
   "execution_count": 86,
   "outputs": []
  },
  {
   "cell_type": "code",
   "source": [
    "%%time\n",
    "\n",
    "columns = optimize(benchmark, FireflyAlgorithm(), 100)"
   ],
   "metadata": {
    "execution": {
     "iopub.status.busy": "2023-04-23T14:58:41.474906Z",
     "iopub.execute_input": "2023-04-23T14:58:41.475396Z",
     "iopub.status.idle": "2023-04-23T14:58:41.513156Z",
     "shell.execute_reply.started": "2023-04-23T14:58:41.475352Z",
     "shell.execute_reply": "2023-04-23T14:58:41.511086Z"
    },
    "trusted": true
   },
   "execution_count": 87,
   "outputs": [
    {
     "name": "stderr",
     "output_type": "stream",
     "text": [
      " 20%|██        | 1/5 [09:14<36:59, 554.92s/it]"
     ]
    },
    {
     "name": "stdout",
     "output_type": "stream",
     "text": [
      "--------------\n",
      "Run 1\n",
      "--------------\n",
      "Score: 0.7802895605791211\n",
      "Number of features selected: 210\n",
      "\n",
      "\n",
      "\n"
     ]
    },
    {
     "name": "stderr",
     "output_type": "stream",
     "text": [
      " 40%|████      | 2/5 [18:37<27:58, 559.50s/it]"
     ]
    },
    {
     "name": "stdout",
     "output_type": "stream",
     "text": [
      "--------------\n",
      "Run 2\n",
      "--------------\n",
      "Score: 0.7745322157310981\n",
      "Number of features selected: 223\n",
      "\n",
      "\n",
      "\n"
     ]
    },
    {
     "name": "stderr",
     "output_type": "stream",
     "text": [
      " 60%|██████    | 3/5 [27:32<18:16, 548.32s/it]"
     ]
    },
    {
     "name": "stdout",
     "output_type": "stream",
     "text": [
      "--------------\n",
      "Run 3\n",
      "--------------\n",
      "Score: 0.7821522309711286\n",
      "Number of features selected: 196\n",
      "\n",
      "\n",
      "\n"
     ]
    },
    {
     "name": "stderr",
     "output_type": "stream",
     "text": [
      " 80%|████████  | 4/5 [36:29<09:03, 543.75s/it]"
     ]
    },
    {
     "name": "stdout",
     "output_type": "stream",
     "text": [
      "--------------\n",
      "Run 4\n",
      "--------------\n",
      "Score: 0.780501227669122\n",
      "Number of features selected: 202\n",
      "\n",
      "\n",
      "\n"
     ]
    },
    {
     "name": "stderr",
     "output_type": "stream",
     "text": [
      "100%|██████████| 5/5 [45:44<00:00, 548.93s/it]"
     ]
    },
    {
     "name": "stdout",
     "output_type": "stream",
     "text": [
      "--------------\n",
      "Run 5\n",
      "--------------\n",
      "Score: 0.7755482177631022\n",
      "Number of features selected: 235\n",
      "\n",
      "\n",
      "\n",
      "\n",
      "Best score of 5 runs: 0.7821522309711286\n",
      "Number of features selected: 196\n",
      "CPU times: user 38min 51s, sys: 6min 19s, total: 45min 10s\n",
      "Wall time: 45min 44s\n"
     ]
    },
    {
     "name": "stderr",
     "output_type": "stream",
     "text": [
      "\n"
     ]
    }
   ]
  },
  {
   "cell_type": "code",
   "execution_count": 121,
   "outputs": [
    {
     "data": {
      "text/plain": "0.23181304183942705"
     },
     "execution_count": 121,
     "metadata": {},
     "output_type": "execute_result"
    }
   ],
   "source": [
    "from xgboost import XGBRFClassifier\n",
    "\n",
    "clf = XGBRFClassifier()\n",
    "clf.fit(X_train, y_train)\n",
    "y_pred = clf.predict(X_val)\n",
    "f1_score(y_val, y_pred)"
   ],
   "metadata": {
    "collapsed": false
   }
  },
  {
   "cell_type": "code",
   "execution_count": 123,
   "outputs": [
    {
     "data": {
      "text/plain": "196"
     },
     "execution_count": 123,
     "metadata": {},
     "output_type": "execute_result"
    }
   ],
   "source": [
    "len(columns)"
   ],
   "metadata": {
    "collapsed": false
   }
  },
  {
   "cell_type": "code",
   "execution_count": null,
   "outputs": [],
   "source": [],
   "metadata": {
    "collapsed": false,
    "pycharm": {
     "is_executing": true
    }
   }
  },
  {
   "cell_type": "code",
   "execution_count": 123,
   "outputs": [],
   "source": [],
   "metadata": {
    "collapsed": false
   }
  }
 ]
}
