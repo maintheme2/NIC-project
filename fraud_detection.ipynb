{
 "cells": [
  {
   "cell_type": "markdown",
   "source": [
    "### Importing libraries"
   ],
   "metadata": {
    "collapsed": false
   }
  },
  {
   "cell_type": "code",
   "execution_count": 1,
   "metadata": {
    "collapsed": true
   },
   "outputs": [],
   "source": [
    "from NiaPy.algorithms.basic import FireflyAlgorithm, BatAlgorithm, ParticleSwarmOptimization\n",
    "from sklearn.tree import DecisionTreeClassifier\n",
    "from sklearn.linear_model import LogisticRegression\n",
    "from sklearn.ensemble import RandomForestClassifier\n",
    "from sklearn.metrics import f1_score, accuracy_score\n",
    "from imblearn.under_sampling import RandomUnderSampler\n",
    "\n",
    "from preprocessing import get_train_test_data\n",
    "from benchmark import ClassificationBenchmark\n",
    "from optimizer import optimize\n",
    "import warnings\n",
    "\n",
    "warnings.filterwarnings(\"ignore\")"
   ]
  },
  {
   "cell_type": "markdown",
   "source": [
    "### Loading and preparing training and testing data"
   ],
   "metadata": {
    "collapsed": false
   }
  },
  {
   "cell_type": "code",
   "execution_count": 3,
   "outputs": [
    {
     "name": "stdout",
     "output_type": "stream",
     "text": [
      "all_columns:\n",
      "cat_features:\n",
      "num_features:\n",
      "CPU times: user 2min 32s, sys: 2min 32s, total: 5min 5s\n",
      "Wall time: 5min 30s\n"
     ]
    }
   ],
   "source": [
    "%%time\n",
    "\n",
    "X_train, X_test, y_train, y_test = get_train_test_data('train_transaction.csv', 'train_identity.csv')"
   ],
   "metadata": {
    "collapsed": false
   }
  },
  {
   "cell_type": "code",
   "execution_count": 4,
   "outputs": [],
   "source": [
    "X_train, y_train = RandomUnderSampler().fit_resample(X_train, y_train)"
   ],
   "metadata": {
    "collapsed": false
   }
  },
  {
   "cell_type": "markdown",
   "source": [
    "## Let's check the score of the algorithm without using nature inspired algorithms"
   ],
   "metadata": {
    "collapsed": false
   }
  },
  {
   "cell_type": "code",
   "execution_count": null,
   "outputs": [],
   "source": [
    "clf = RandomForestClassifier()\n",
    "clf.fit(X_train, y_train)\n",
    "y_pred = clf.predict(X_test)\n",
    "f1_score(y_test, y_pred)"
   ],
   "metadata": {
    "collapsed": false
   }
  },
  {
   "cell_type": "markdown",
   "source": [
    "### Optimizing columns using Firefly algorithm and Decision Tree Classifier"
   ],
   "metadata": {
    "collapsed": false
   }
  },
  {
   "cell_type": "code",
   "execution_count": 6,
   "outputs": [
    {
     "name": "stderr",
     "output_type": "stream",
     "text": [
      "  0%|          | 0/5 [00:02<?, ?it/s]\n",
      "\n",
      "KeyboardInterrupt\n",
      "\n"
     ]
    }
   ],
   "source": [
    "%%time\n",
    "\n",
    "firefly_decision_tree_benchmark = ClassificationBenchmark(DecisionTreeClassifier,\n",
    "                                                          accuracy_score,\n",
    "                                                          X_train[:30000],\n",
    "                                                          y_train[:30000],\n",
    "                                                          X_test[:10000],\n",
    "                                                          y_test[:10000])\n",
    "\n",
    "firefly_decision_tree_columns = optimize(firefly_decision_tree_benchmark, FireflyAlgorithm(), 100)"
   ],
   "metadata": {
    "collapsed": false
   }
  },
  {
   "cell_type": "markdown",
   "source": [
    "### Optimizing columns using Firefly algorithm and Logistic Regression"
   ],
   "metadata": {
    "collapsed": false
   }
  },
  {
   "cell_type": "code",
   "execution_count": 5,
   "outputs": [],
   "source": [
    "%%time\n",
    "\n",
    "firefly_logistic_regression_benchmark = ClassificationBenchmark(LogisticRegression,\n",
    "                                                                accuracy_score,\n",
    "                                                                X_train[:30000],\n",
    "                                                                y_train[:30000],\n",
    "                                                                X_test[:10000],\n",
    "                                                                y_test[:10000])\n",
    "\n",
    "firefly_logistic_regression_columns = optimize(firefly_logistic_regression_benchmark, FireflyAlgorithm(), 100)"
   ],
   "metadata": {
    "collapsed": false
   }
  },
  {
   "cell_type": "markdown",
   "source": [
    "### Optimizing columns using Firefly algorithm and Random Forest Classifier"
   ],
   "metadata": {
    "collapsed": false
   }
  },
  {
   "cell_type": "code",
   "execution_count": null,
   "outputs": [],
   "source": [
    "%%time\n",
    "\n",
    "firefly_random_forest_benchmark = ClassificationBenchmark(RandomForestClassifier,\n",
    "                                                          accuracy_score,\n",
    "                                                          X_train[:30000],\n",
    "                                                          y_train[:30000],\n",
    "                                                          X_test[:10000],\n",
    "                                                          y_test[:10000])\n",
    "\n",
    "firefly_random_forest_columns = optimize(firefly_random_forest_benchmark, FireflyAlgorithm(), 100)"
   ],
   "metadata": {
    "collapsed": false,
    "pycharm": {
     "is_executing": true
    }
   }
  },
  {
   "cell_type": "markdown",
   "source": [
    "### Optimizing columns using Bat Algorithm and Random Forest Classifier"
   ],
   "metadata": {
    "collapsed": false
   }
  },
  {
   "cell_type": "code",
   "execution_count": null,
   "outputs": [],
   "source": [
    "%%time\n",
    "\n",
    "bat_random_forest_benchmark = ClassificationBenchmark(BatAlgorithm,\n",
    "                                                      accuracy_score,\n",
    "                                                      X_train[:30000],\n",
    "                                                      y_train[:30000],\n",
    "                                                      X_test[:10000],\n",
    "                                                      y_test[:10000])\n",
    "\n",
    "bat_random_forest_columns = optimize(bat_random_forest_benchmark, FireflyAlgorithm(), 100)"
   ],
   "metadata": {
    "collapsed": false
   }
  },
  {
   "cell_type": "markdown",
   "source": [
    "### Optimizing columns using Particle Swarm Optimization and Random Forest Classifier"
   ],
   "metadata": {
    "collapsed": false
   }
  },
  {
   "cell_type": "code",
   "execution_count": null,
   "outputs": [],
   "source": [
    "%%time\n",
    "\n",
    "particle_swarm_random_forest_benchmark = ClassificationBenchmark(BatAlgorithm,\n",
    "                                                                 accuracy_score,\n",
    "                                                                 X_train[:30000],\n",
    "                                                                 y_train[:30000],\n",
    "                                                                 X_test[:10000],\n",
    "                                                                 y_test[:10000])\n",
    "\n",
    "particle_swarm_random_forest_columns = optimize(particle_swarm_random_forest_benchmark, FireflyAlgorithm(), 100)"
   ],
   "metadata": {
    "collapsed": false
   }
  },
  {
   "cell_type": "markdown",
   "source": [
    "### Finally, let's check f1 score with the best"
   ],
   "metadata": {
    "collapsed": false
   }
  },
  {
   "cell_type": "code",
   "execution_count": null,
   "outputs": [],
   "source": [
    "clf = RandomForestClassifier()\n",
    "clf.fit(X_train[firefly_random_forest_columns], y_train)\n",
    "y_pred = clf.predict(X_test[firefly_random_forest_columns])\n",
    "f1_score(y_test, y_pred)"
   ],
   "metadata": {
    "collapsed": false
   }
  }
 ],
 "metadata": {
  "kernelspec": {
   "display_name": "Python 3",
   "language": "python",
   "name": "python3"
  },
  "language_info": {
   "codemirror_mode": {
    "name": "ipython",
    "version": 2
   },
   "file_extension": ".py",
   "mimetype": "text/x-python",
   "name": "python",
   "nbconvert_exporter": "python",
   "pygments_lexer": "ipython2",
   "version": "2.7.6"
  }
 },
 "nbformat": 4,
 "nbformat_minor": 0
}
