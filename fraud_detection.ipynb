{
 "cells": [
  {
   "cell_type": "markdown",
   "source": [
    "### Importing libraries"
   ],
   "metadata": {
    "collapsed": false
   }
  },
  {
   "cell_type": "code",
   "execution_count": 2,
   "metadata": {
    "collapsed": true
   },
   "outputs": [],
   "source": [
    "from NiaPy.algorithms.basic import FireflyAlgorithm, BatAlgorithm, ParticleSwarmOptimization\n",
    "from sklearn.tree import DecisionTreeClassifier\n",
    "from sklearn.linear_model import LogisticRegression\n",
    "from sklearn.ensemble import RandomForestClassifier\n",
    "from sklearn.metrics import roc_auc_score\n",
    "from imblearn.under_sampling import RandomUnderSampler\n",
    "\n",
    "from preprocessing import get_train_test_data\n",
    "from benchmark import ClassificationBenchmark\n",
    "from optimizer import optimize\n",
    "import warnings\n",
    "warnings.filterwarnings(\"ignore\")"
   ]
  },
  {
   "cell_type": "markdown",
   "source": [
    "### Loading and preparing training and testing data"
   ],
   "metadata": {
    "collapsed": false
   }
  },
  {
   "cell_type": "code",
   "execution_count": 3,
   "outputs": [
    {
     "name": "stdout",
     "output_type": "stream",
     "text": [
      "CPU times: user 1min 53s, sys: 1min 37s, total: 3min 30s\n",
      "Wall time: 3min 54s\n"
     ]
    }
   ],
   "source": [
    "%%time\n",
    "\n",
    "X_train, X_test, y_train, y_test = get_train_test_data('train_transaction.csv', 'train_identity.csv')"
   ],
   "metadata": {
    "collapsed": false
   }
  },
  {
   "cell_type": "code",
   "execution_count": 4,
   "outputs": [],
   "source": [
    "X_train_nia, y_train_nia = RandomUnderSampler().fit_resample(X_train, y_train)\n",
    "X_test_nia, y_test_nia = X_test, y_test"
   ],
   "metadata": {
    "collapsed": false
   }
  },
  {
   "cell_type": "markdown",
   "source": [
    "### Let's check the score of the algorithm without using nature inspired algorithms"
   ],
   "metadata": {
    "collapsed": false
   }
  },
  {
   "cell_type": "code",
   "execution_count": 5,
   "outputs": [
    {
     "data": {
      "text/plain": "0.8478323189750383"
     },
     "execution_count": 5,
     "metadata": {},
     "output_type": "execute_result"
    }
   ],
   "source": [
    "clf = RandomForestClassifier()\n",
    "clf.fit(X_train_nia, y_train_nia)\n",
    "y_predict_nia = clf.predict(X_test_nia)\n",
    "roc_auc_score(y_test_nia, y_predict_nia)"
   ],
   "metadata": {
    "collapsed": false
   }
  },
  {
   "cell_type": "markdown",
   "source": [
    "### Optimizing columns using Firefly algorithm and Decision Tree Classifier"
   ],
   "metadata": {
    "collapsed": false
   }
  },
  {
   "cell_type": "code",
   "execution_count": 6,
   "outputs": [
    {
     "name": "stderr",
     "output_type": "stream",
     "text": [
      " 20%|██        | 1/5 [29:02<1:56:11, 1742.88s/it]"
     ]
    },
    {
     "name": "stdout",
     "output_type": "stream",
     "text": [
      "--------------\n",
      "Run 1\n",
      "--------------\n",
      "Score: 0.7967592589458548\n",
      "Number of features selected: 107\n",
      "\n",
      "\n",
      "\n"
     ]
    },
    {
     "name": "stderr",
     "output_type": "stream",
     "text": [
      " 40%|████      | 2/5 [58:45<1:28:19, 1766.54s/it]"
     ]
    },
    {
     "name": "stdout",
     "output_type": "stream",
     "text": [
      "--------------\n",
      "Run 2\n",
      "--------------\n",
      "Score: 0.7943020237861125\n",
      "Number of features selected: 122\n",
      "\n",
      "\n",
      "\n"
     ]
    },
    {
     "name": "stderr",
     "output_type": "stream",
     "text": [
      " 60%|██████    | 3/5 [1:28:12<58:53, 1766.53s/it]"
     ]
    },
    {
     "name": "stdout",
     "output_type": "stream",
     "text": [
      "--------------\n",
      "Run 3\n",
      "--------------\n",
      "Score: 0.7984324931890024\n",
      "Number of features selected: 113\n",
      "\n",
      "\n",
      "\n"
     ]
    },
    {
     "name": "stderr",
     "output_type": "stream",
     "text": [
      " 80%|████████  | 4/5 [1:57:36<29:25, 1765.38s/it]"
     ]
    },
    {
     "name": "stdout",
     "output_type": "stream",
     "text": [
      "--------------\n",
      "Run 4\n",
      "--------------\n",
      "Score: 0.7952610425488922\n",
      "Number of features selected: 110\n",
      "\n",
      "\n",
      "\n"
     ]
    },
    {
     "name": "stderr",
     "output_type": "stream",
     "text": [
      "100%|██████████| 5/5 [2:27:31<00:00, 1770.33s/it]"
     ]
    },
    {
     "name": "stdout",
     "output_type": "stream",
     "text": [
      "--------------\n",
      "Run 5\n",
      "--------------\n",
      "Score: 0.7922101319280683\n",
      "Number of features selected: 122\n",
      "\n",
      "\n",
      "\n",
      "\n",
      "Best score of 5 runs: 0.7984324931890024\n",
      "Number of features selected: 113\n",
      "CPU times: user 2h 16min, sys: 11min 10s, total: 2h 27min 11s\n",
      "Wall time: 2h 27min 31s\n"
     ]
    },
    {
     "name": "stderr",
     "output_type": "stream",
     "text": [
      "\n"
     ]
    }
   ],
   "source": [
    "%%time\n",
    "\n",
    "firefly_decision_tree_benchmark = ClassificationBenchmark(DecisionTreeClassifier,\n",
    "                                                          roc_auc_score,\n",
    "                                                          X_train_nia,\n",
    "                                                          y_train_nia,\n",
    "                                                          X_test_nia,\n",
    "                                                          y_test_nia)\n",
    "\n",
    "firefly_decision_tree_columns = optimize(firefly_decision_tree_benchmark, FireflyAlgorithm(), 100)"
   ],
   "metadata": {
    "collapsed": false
   }
  },
  {
   "cell_type": "markdown",
   "source": [
    "### Optimizing columns using Firefly algorithm and Logistic Regression"
   ],
   "metadata": {
    "collapsed": false
   }
  },
  {
   "cell_type": "code",
   "execution_count": 7,
   "outputs": [
    {
     "name": "stderr",
     "output_type": "stream",
     "text": [
      " 20%|██        | 1/5 [18:44<1:14:57, 1124.49s/it]"
     ]
    },
    {
     "name": "stdout",
     "output_type": "stream",
     "text": [
      "--------------\n",
      "Run 1\n",
      "--------------\n",
      "Score: 0.7576257153282225\n",
      "Number of features selected: 113\n",
      "\n",
      "\n",
      "\n"
     ]
    },
    {
     "name": "stderr",
     "output_type": "stream",
     "text": [
      " 40%|████      | 2/5 [38:12<57:29, 1149.80s/it]  "
     ]
    },
    {
     "name": "stdout",
     "output_type": "stream",
     "text": [
      "--------------\n",
      "Run 2\n",
      "--------------\n",
      "Score: 0.756563275005898\n",
      "Number of features selected: 124\n",
      "\n",
      "\n",
      "\n"
     ]
    },
    {
     "name": "stderr",
     "output_type": "stream",
     "text": [
      " 60%|██████    | 3/5 [1:27:30<1:05:51, 1975.85s/it]"
     ]
    },
    {
     "name": "stdout",
     "output_type": "stream",
     "text": [
      "--------------\n",
      "Run 3\n",
      "--------------\n",
      "Score: 0.7581794547681722\n",
      "Number of features selected: 126\n",
      "\n",
      "\n",
      "\n"
     ]
    },
    {
     "name": "stderr",
     "output_type": "stream",
     "text": [
      " 80%|████████  | 4/5 [4:36:13<1:34:25, 5665.94s/it]"
     ]
    },
    {
     "name": "stdout",
     "output_type": "stream",
     "text": [
      "--------------\n",
      "Run 4\n",
      "--------------\n",
      "Score: 0.7575462917676032\n",
      "Number of features selected: 127\n",
      "\n",
      "\n",
      "\n"
     ]
    },
    {
     "name": "stderr",
     "output_type": "stream",
     "text": [
      "100%|██████████| 5/5 [5:35:46<00:00, 4029.34s/it]  "
     ]
    },
    {
     "name": "stdout",
     "output_type": "stream",
     "text": [
      "--------------\n",
      "Run 5\n",
      "--------------\n",
      "Score: 0.7574781690982269\n",
      "Number of features selected: 121\n",
      "\n",
      "\n",
      "\n",
      "\n",
      "Best score of 5 runs: 0.7581794547681722\n",
      "Number of features selected: 126\n",
      "CPU times: user 6h 19min 44s, sys: 1h 18min 30s, total: 7h 38min 15s\n",
      "Wall time: 5h 35min 46s\n"
     ]
    },
    {
     "name": "stderr",
     "output_type": "stream",
     "text": [
      "\n"
     ]
    }
   ],
   "source": [
    "%%time\n",
    "\n",
    "firefly_logistic_regression_benchmark = ClassificationBenchmark(LogisticRegression,\n",
    "                                                                roc_auc_score,\n",
    "                                                                X_train_nia,\n",
    "                                                                y_train_nia,\n",
    "                                                                X_test_nia,\n",
    "                                                                y_test_nia)\n",
    "\n",
    "firefly_logistic_regression_columns = optimize(firefly_logistic_regression_benchmark, FireflyAlgorithm(), 100)"
   ],
   "metadata": {
    "collapsed": false
   }
  },
  {
   "cell_type": "markdown",
   "source": [
    "### Optimizing columns using Firefly algorithm and Random Forest Classifier"
   ],
   "metadata": {
    "collapsed": false
   }
  },
  {
   "cell_type": "code",
   "execution_count": 22,
   "outputs": [
    {
     "name": "stderr",
     "output_type": "stream",
     "text": [
      " 20%|██        | 1/5 [1:00:02<4:00:08, 3602.06s/it]"
     ]
    },
    {
     "name": "stdout",
     "output_type": "stream",
     "text": [
      "--------------\n",
      "Run 1\n",
      "--------------\n",
      "Score: 0.848983939449224\n",
      "Number of features selected: 103\n",
      "\n",
      "\n",
      "\n"
     ]
    },
    {
     "name": "stderr",
     "output_type": "stream",
     "text": [
      " 40%|████      | 2/5 [1:58:54<2:58:03, 3561.31s/it]"
     ]
    },
    {
     "name": "stdout",
     "output_type": "stream",
     "text": [
      "--------------\n",
      "Run 2\n",
      "--------------\n",
      "Score: 0.8463946306762121\n",
      "Number of features selected: 110\n",
      "\n",
      "\n",
      "\n"
     ]
    },
    {
     "name": "stderr",
     "output_type": "stream",
     "text": [
      " 60%|██████    | 3/5 [2:57:41<1:58:11, 3545.55s/it]"
     ]
    },
    {
     "name": "stdout",
     "output_type": "stream",
     "text": [
      "--------------\n",
      "Run 3\n",
      "--------------\n",
      "Score: 0.84779608927391\n",
      "Number of features selected: 127\n",
      "\n",
      "\n",
      "\n"
     ]
    },
    {
     "name": "stderr",
     "output_type": "stream",
     "text": [
      " 80%|████████  | 4/5 [3:56:58<59:09, 3549.92s/it]  "
     ]
    },
    {
     "name": "stdout",
     "output_type": "stream",
     "text": [
      "--------------\n",
      "Run 4\n",
      "--------------\n",
      "Score: 0.8470661515502402\n",
      "Number of features selected: 123\n",
      "\n",
      "\n",
      "\n"
     ]
    },
    {
     "name": "stderr",
     "output_type": "stream",
     "text": [
      "100%|██████████| 5/5 [4:56:16<00:00, 3555.34s/it]"
     ]
    },
    {
     "name": "stdout",
     "output_type": "stream",
     "text": [
      "--------------\n",
      "Run 5\n",
      "--------------\n",
      "Score: 0.8475517683208137\n",
      "Number of features selected: 124\n",
      "\n",
      "\n",
      "\n",
      "\n",
      "Best score of 5 runs: 0.848983939449224\n",
      "Number of features selected: 103\n",
      "CPU times: user 4h 38min 10s, sys: 16min 29s, total: 4h 54min 39s\n",
      "Wall time: 4h 56min 16s\n"
     ]
    },
    {
     "name": "stderr",
     "output_type": "stream",
     "text": [
      "\n"
     ]
    }
   ],
   "source": [
    "%%time\n",
    "\n",
    "def rf_model():\n",
    "    return RandomForestClassifier(n_estimators=20)\n",
    "\n",
    "\n",
    "firefly_random_forest_benchmark = ClassificationBenchmark(rf_model,\n",
    "                                                          roc_auc_score,\n",
    "                                                          X_train_nia,\n",
    "                                                          y_train_nia,\n",
    "                                                          X_test_nia,\n",
    "                                                          y_test_nia)\n",
    "\n",
    "firefly_random_forest_columns = optimize(firefly_random_forest_benchmark, FireflyAlgorithm(), 100)"
   ],
   "metadata": {
    "collapsed": false
   }
  },
  {
   "cell_type": "markdown",
   "source": [
    "### Optimizing columns using Bat Algorithm and Random Forest Classifier"
   ],
   "metadata": {
    "collapsed": false
   }
  },
  {
   "cell_type": "code",
   "execution_count": 36,
   "outputs": [
    {
     "name": "stderr",
     "output_type": "stream",
     "text": [
      " 20%|██        | 1/5 [41:43<2:46:54, 2503.68s/it]"
     ]
    },
    {
     "name": "stdout",
     "output_type": "stream",
     "text": [
      "--------------\n",
      "Run 1\n",
      "--------------\n",
      "Score: 0.8110621932343244\n",
      "Number of features selected: 118\n",
      "\n",
      "\n",
      "\n"
     ]
    },
    {
     "name": "stderr",
     "output_type": "stream",
     "text": [
      " 40%|████      | 2/5 [1:22:24<2:03:20, 2466.74s/it]"
     ]
    },
    {
     "name": "stdout",
     "output_type": "stream",
     "text": [
      "--------------\n",
      "Run 2\n",
      "--------------\n",
      "Score: 0.809136992695334\n",
      "Number of features selected: 121\n",
      "\n",
      "\n",
      "\n"
     ]
    },
    {
     "name": "stderr",
     "output_type": "stream",
     "text": [
      " 60%|██████    | 3/5 [2:01:39<1:20:31, 2415.64s/it]"
     ]
    },
    {
     "name": "stdout",
     "output_type": "stream",
     "text": [
      "--------------\n",
      "Run 3\n",
      "--------------\n",
      "Score: 0.8100410343780643\n",
      "Number of features selected: 98\n",
      "\n",
      "\n",
      "\n"
     ]
    },
    {
     "name": "stderr",
     "output_type": "stream",
     "text": [
      " 80%|████████  | 4/5 [2:41:00<39:54, 2394.25s/it]  "
     ]
    },
    {
     "name": "stdout",
     "output_type": "stream",
     "text": [
      "--------------\n",
      "Run 4\n",
      "--------------\n",
      "Score: 0.8117540565587816\n",
      "Number of features selected: 127\n",
      "\n",
      "\n",
      "\n"
     ]
    },
    {
     "name": "stderr",
     "output_type": "stream",
     "text": [
      "100%|██████████| 5/5 [3:52:53<00:00, 2794.68s/it]"
     ]
    },
    {
     "name": "stdout",
     "output_type": "stream",
     "text": [
      "--------------\n",
      "Run 5\n",
      "--------------\n",
      "Score: 0.8090437085133325\n",
      "Number of features selected: 122\n",
      "\n",
      "\n",
      "\n",
      "\n",
      "Best score of 5 runs: 0.8117540565587816\n",
      "Number of features selected: 127\n",
      "CPU times: user 2h 49min 16s, sys: 31min 14s, total: 3h 20min 31s\n",
      "Wall time: 3h 52min 53s\n"
     ]
    },
    {
     "name": "stderr",
     "output_type": "stream",
     "text": [
      "\n"
     ]
    }
   ],
   "source": [
    "%%time\n",
    "\n",
    "def rf_bat_model():\n",
    "    return RandomForestClassifier(n_estimators=10, max_depth=10)\n",
    "\n",
    "bat_random_forest_benchmark = ClassificationBenchmark(rf_bat_model,\n",
    "                                                      roc_auc_score,\n",
    "                                                      X_train_nia,\n",
    "                                                      y_train_nia,\n",
    "                                                      X_test_nia,\n",
    "                                                      y_test_nia)\n",
    "\n",
    "bat_random_forest_columns = optimize(bat_random_forest_benchmark, BatAlgorithm(), 100)"
   ],
   "metadata": {
    "collapsed": false
   }
  },
  {
   "cell_type": "markdown",
   "source": [
    "### Optimizing columns using Particle Swarm Optimization and Random Forest Classifier"
   ],
   "metadata": {
    "collapsed": false
   }
  },
  {
   "cell_type": "code",
   "execution_count": 38,
   "outputs": [
    {
     "name": "stderr",
     "output_type": "stream",
     "text": [
      " 20%|██        | 1/5 [1:13:18<4:53:12, 4398.03s/it]"
     ]
    },
    {
     "name": "stdout",
     "output_type": "stream",
     "text": [
      "--------------\n",
      "Run 1\n",
      "--------------\n",
      "Score: 0.8547472247448139\n",
      "Number of features selected: 110\n",
      "\n",
      "\n",
      "\n"
     ]
    },
    {
     "name": "stderr",
     "output_type": "stream",
     "text": [
      " 40%|████      | 2/5 [2:28:36<3:43:26, 4468.67s/it]"
     ]
    },
    {
     "name": "stdout",
     "output_type": "stream",
     "text": [
      "--------------\n",
      "Run 2\n",
      "--------------\n",
      "Score: 0.8607576403502151\n",
      "Number of features selected: 121\n",
      "\n",
      "\n",
      "\n"
     ]
    },
    {
     "name": "stderr",
     "output_type": "stream",
     "text": [
      " 60%|██████    | 3/5 [6:15:36<4:48:14, 8647.38s/it]"
     ]
    },
    {
     "name": "stdout",
     "output_type": "stream",
     "text": [
      "--------------\n",
      "Run 3\n",
      "--------------\n",
      "Score: 0.8468617666182758\n",
      "Number of features selected: 122\n",
      "\n",
      "\n",
      "\n"
     ]
    },
    {
     "name": "stderr",
     "output_type": "stream",
     "text": [
      " 80%|████████  | 4/5 [7:34:30<1:58:22, 7102.70s/it]"
     ]
    },
    {
     "name": "stdout",
     "output_type": "stream",
     "text": [
      "--------------\n",
      "Run 4\n",
      "--------------\n",
      "Score: 0.8562549142587715\n",
      "Number of features selected: 121\n",
      "\n",
      "\n",
      "\n"
     ]
    },
    {
     "name": "stderr",
     "output_type": "stream",
     "text": [
      "100%|██████████| 5/5 [8:51:41<00:00, 6380.37s/it]  "
     ]
    },
    {
     "name": "stdout",
     "output_type": "stream",
     "text": [
      "--------------\n",
      "Run 5\n",
      "--------------\n",
      "Score: 0.854956229883906\n",
      "Number of features selected: 112\n",
      "\n",
      "\n",
      "\n",
      "\n",
      "Best score of 5 runs: 0.8607576403502151\n",
      "Number of features selected: 121\n",
      "CPU times: user 6h 4min 48s, sys: 21min 22s, total: 6h 26min 10s\n",
      "Wall time: 8h 51min 41s\n"
     ]
    },
    {
     "name": "stderr",
     "output_type": "stream",
     "text": [
      "\n"
     ]
    }
   ],
   "source": [
    "%%time\n",
    "\n",
    "particle_swarm_random_forest_benchmark = ClassificationBenchmark(rf_model,\n",
    "                                                                 roc_auc_score,\n",
    "                                                                 X_train_nia,\n",
    "                                                                 y_train_nia,\n",
    "                                                                 X_test_nia,\n",
    "                                                                 y_test_nia)\n",
    "\n",
    "particle_swarm_forest_columns = optimize(particle_swarm_random_forest_benchmark, ParticleSwarmOptimization(), 100)"
   ],
   "metadata": {
    "collapsed": false
   }
  },
  {
   "cell_type": "markdown",
   "source": [
    "### Finally, let's check roc_acc score with the best nature inspired and machine learning algorithms for our dataset"
   ],
   "metadata": {
    "collapsed": false
   }
  },
  {
   "cell_type": "code",
   "execution_count": 45,
   "outputs": [
    {
     "name": "stdout",
     "output_type": "stream",
     "text": [
      "[Parallel(n_jobs=1)]: Using backend SequentialBackend with 1 concurrent workers.\n",
      "building tree 1 of 100\n",
      "[Parallel(n_jobs=1)]: Done   1 out of   1 | elapsed:    2.6s remaining:    0.0s\n",
      "building tree 2 of 100\n",
      "[Parallel(n_jobs=1)]: Done   2 out of   2 | elapsed:    4.9s remaining:    0.0s\n",
      "building tree 3 of 100\n",
      "[Parallel(n_jobs=1)]: Done   3 out of   3 | elapsed:    7.5s remaining:    0.0s\n",
      "building tree 4 of 100\n",
      "[Parallel(n_jobs=1)]: Done   4 out of   4 | elapsed:    9.8s remaining:    0.0s\n",
      "building tree 5 of 100\n",
      "[Parallel(n_jobs=1)]: Done   5 out of   5 | elapsed:   12.4s remaining:    0.0s\n",
      "building tree 6 of 100\n",
      "[Parallel(n_jobs=1)]: Done   6 out of   6 | elapsed:   15.3s remaining:    0.0s\n",
      "building tree 7 of 100\n",
      "[Parallel(n_jobs=1)]: Done   7 out of   7 | elapsed:   18.5s remaining:    0.0s\n",
      "building tree 8 of 100\n",
      "[Parallel(n_jobs=1)]: Done   8 out of   8 | elapsed:   21.0s remaining:    0.0s\n",
      "building tree 9 of 100\n",
      "[Parallel(n_jobs=1)]: Done   9 out of   9 | elapsed:   23.4s remaining:    0.0s\n",
      "building tree 10 of 100\n",
      "[Parallel(n_jobs=1)]: Done  10 out of  10 | elapsed:   25.9s remaining:    0.0s\n",
      "building tree 11 of 100\n",
      "[Parallel(n_jobs=1)]: Done  11 out of  11 | elapsed:   28.6s remaining:    0.0s\n",
      "building tree 12 of 100\n",
      "[Parallel(n_jobs=1)]: Done  12 out of  12 | elapsed:   31.4s remaining:    0.0s\n",
      "building tree 13 of 100\n",
      "[Parallel(n_jobs=1)]: Done  13 out of  13 | elapsed:   33.9s remaining:    0.0s\n",
      "building tree 14 of 100\n",
      "[Parallel(n_jobs=1)]: Done  14 out of  14 | elapsed:   36.3s remaining:    0.0s\n",
      "building tree 15 of 100\n",
      "[Parallel(n_jobs=1)]: Done  15 out of  15 | elapsed:   38.9s remaining:    0.0s\n",
      "building tree 16 of 100\n",
      "[Parallel(n_jobs=1)]: Done  16 out of  16 | elapsed:   41.4s remaining:    0.0s\n",
      "building tree 17 of 100\n",
      "[Parallel(n_jobs=1)]: Done  17 out of  17 | elapsed:   44.0s remaining:    0.0s\n",
      "building tree 18 of 100\n",
      "[Parallel(n_jobs=1)]: Done  18 out of  18 | elapsed:   46.9s remaining:    0.0s\n",
      "building tree 19 of 100\n",
      "[Parallel(n_jobs=1)]: Done  19 out of  19 | elapsed:   49.0s remaining:    0.0s\n",
      "building tree 20 of 100\n",
      "[Parallel(n_jobs=1)]: Done  20 out of  20 | elapsed:   51.2s remaining:    0.0s\n",
      "building tree 21 of 100\n",
      "[Parallel(n_jobs=1)]: Done  21 out of  21 | elapsed:   53.6s remaining:    0.0s\n",
      "building tree 22 of 100\n",
      "[Parallel(n_jobs=1)]: Done  22 out of  22 | elapsed:   56.1s remaining:    0.0s\n",
      "building tree 23 of 100\n",
      "[Parallel(n_jobs=1)]: Done  23 out of  23 | elapsed:   58.7s remaining:    0.0s\n",
      "building tree 24 of 100\n",
      "[Parallel(n_jobs=1)]: Done  24 out of  24 | elapsed:  1.0min remaining:    0.0s\n",
      "building tree 25 of 100\n",
      "[Parallel(n_jobs=1)]: Done  25 out of  25 | elapsed:  1.1min remaining:    0.0s\n",
      "building tree 26 of 100\n",
      "[Parallel(n_jobs=1)]: Done  26 out of  26 | elapsed:  1.1min remaining:    0.0s\n",
      "building tree 27 of 100\n",
      "[Parallel(n_jobs=1)]: Done  27 out of  27 | elapsed:  1.1min remaining:    0.0s\n",
      "building tree 28 of 100\n",
      "[Parallel(n_jobs=1)]: Done  28 out of  28 | elapsed:  1.2min remaining:    0.0s\n",
      "building tree 29 of 100\n",
      "[Parallel(n_jobs=1)]: Done  29 out of  29 | elapsed:  1.2min remaining:    0.0s\n",
      "building tree 30 of 100\n",
      "[Parallel(n_jobs=1)]: Done  30 out of  30 | elapsed:  1.3min remaining:    0.0s\n",
      "building tree 31 of 100\n",
      "[Parallel(n_jobs=1)]: Done  31 out of  31 | elapsed:  1.3min remaining:    0.0s\n",
      "building tree 32 of 100\n",
      "[Parallel(n_jobs=1)]: Done  32 out of  32 | elapsed:  1.4min remaining:    0.0s\n",
      "building tree 33 of 100\n",
      "[Parallel(n_jobs=1)]: Done  33 out of  33 | elapsed:  1.4min remaining:    0.0s\n",
      "building tree 34 of 100\n",
      "[Parallel(n_jobs=1)]: Done  34 out of  34 | elapsed:  1.4min remaining:    0.0s\n",
      "building tree 35 of 100\n",
      "[Parallel(n_jobs=1)]: Done  35 out of  35 | elapsed:  1.5min remaining:    0.0s\n",
      "building tree 36 of 100\n",
      "[Parallel(n_jobs=1)]: Done  36 out of  36 | elapsed:  1.5min remaining:    0.0s\n",
      "building tree 37 of 100\n",
      "[Parallel(n_jobs=1)]: Done  37 out of  37 | elapsed:  1.6min remaining:    0.0s\n",
      "building tree 38 of 100\n",
      "[Parallel(n_jobs=1)]: Done  38 out of  38 | elapsed:  1.6min remaining:    0.0s\n",
      "building tree 39 of 100\n",
      "[Parallel(n_jobs=1)]: Done  39 out of  39 | elapsed:  1.7min remaining:    0.0s\n",
      "building tree 40 of 100\n",
      "[Parallel(n_jobs=1)]: Done  40 out of  40 | elapsed:  1.7min remaining:    0.0s\n",
      "building tree 41 of 100\n",
      "[Parallel(n_jobs=1)]: Done  41 out of  41 | elapsed:  1.7min remaining:    0.0s\n",
      "building tree 42 of 100\n",
      "[Parallel(n_jobs=1)]: Done  42 out of  42 | elapsed:  1.8min remaining:    0.0s\n",
      "building tree 43 of 100\n",
      "[Parallel(n_jobs=1)]: Done  43 out of  43 | elapsed:  1.8min remaining:    0.0s\n",
      "building tree 44 of 100\n",
      "[Parallel(n_jobs=1)]: Done  44 out of  44 | elapsed:  1.8min remaining:    0.0s\n",
      "building tree 45 of 100\n",
      "[Parallel(n_jobs=1)]: Done  45 out of  45 | elapsed:  1.9min remaining:    0.0s\n",
      "building tree 46 of 100\n",
      "[Parallel(n_jobs=1)]: Done  46 out of  46 | elapsed:  1.9min remaining:    0.0s\n",
      "building tree 47 of 100\n",
      "[Parallel(n_jobs=1)]: Done  47 out of  47 | elapsed:  2.0min remaining:    0.0s\n",
      "building tree 48 of 100\n",
      "[Parallel(n_jobs=1)]: Done  48 out of  48 | elapsed:  2.0min remaining:    0.0s\n",
      "building tree 49 of 100\n",
      "[Parallel(n_jobs=1)]: Done  49 out of  49 | elapsed:  2.0min remaining:    0.0s\n",
      "building tree 50 of 100\n",
      "[Parallel(n_jobs=1)]: Done  50 out of  50 | elapsed:  2.1min remaining:    0.0s\n",
      "building tree 51 of 100\n",
      "[Parallel(n_jobs=1)]: Done  51 out of  51 | elapsed:  2.1min remaining:    0.0s\n",
      "building tree 52 of 100\n",
      "[Parallel(n_jobs=1)]: Done  52 out of  52 | elapsed:  2.2min remaining:    0.0s\n",
      "building tree 53 of 100\n",
      "[Parallel(n_jobs=1)]: Done  53 out of  53 | elapsed:  2.2min remaining:    0.0s\n",
      "building tree 54 of 100\n",
      "[Parallel(n_jobs=1)]: Done  54 out of  54 | elapsed:  2.2min remaining:    0.0s\n",
      "building tree 55 of 100\n",
      "[Parallel(n_jobs=1)]: Done  55 out of  55 | elapsed:  2.3min remaining:    0.0s\n",
      "building tree 56 of 100\n",
      "[Parallel(n_jobs=1)]: Done  56 out of  56 | elapsed:  2.3min remaining:    0.0s\n",
      "building tree 57 of 100\n",
      "[Parallel(n_jobs=1)]: Done  57 out of  57 | elapsed:  2.4min remaining:    0.0s\n",
      "building tree 58 of 100\n",
      "[Parallel(n_jobs=1)]: Done  58 out of  58 | elapsed:  2.4min remaining:    0.0s\n",
      "building tree 59 of 100\n",
      "[Parallel(n_jobs=1)]: Done  59 out of  59 | elapsed:  2.5min remaining:    0.0s\n",
      "building tree 60 of 100\n",
      "[Parallel(n_jobs=1)]: Done  60 out of  60 | elapsed:  2.5min remaining:    0.0s\n",
      "building tree 61 of 100\n",
      "[Parallel(n_jobs=1)]: Done  61 out of  61 | elapsed:  2.5min remaining:    0.0s\n",
      "building tree 62 of 100\n",
      "[Parallel(n_jobs=1)]: Done  62 out of  62 | elapsed:  2.6min remaining:    0.0s\n",
      "building tree 63 of 100\n",
      "[Parallel(n_jobs=1)]: Done  63 out of  63 | elapsed:  2.6min remaining:    0.0s\n",
      "building tree 64 of 100\n",
      "[Parallel(n_jobs=1)]: Done  64 out of  64 | elapsed:  2.7min remaining:    0.0s\n",
      "building tree 65 of 100\n",
      "[Parallel(n_jobs=1)]: Done  65 out of  65 | elapsed:  2.7min remaining:    0.0s\n",
      "building tree 66 of 100\n",
      "[Parallel(n_jobs=1)]: Done  66 out of  66 | elapsed:  2.7min remaining:    0.0s\n",
      "building tree 67 of 100\n",
      "[Parallel(n_jobs=1)]: Done  67 out of  67 | elapsed:  2.8min remaining:    0.0s\n",
      "building tree 68 of 100\n",
      "[Parallel(n_jobs=1)]: Done  68 out of  68 | elapsed:  2.8min remaining:    0.0s\n",
      "building tree 69 of 100\n",
      "[Parallel(n_jobs=1)]: Done  69 out of  69 | elapsed:  2.9min remaining:    0.0s\n",
      "building tree 70 of 100\n",
      "[Parallel(n_jobs=1)]: Done  70 out of  70 | elapsed:  2.9min remaining:    0.0s\n",
      "building tree 71 of 100\n",
      "[Parallel(n_jobs=1)]: Done  71 out of  71 | elapsed:  3.0min remaining:    0.0s\n",
      "building tree 72 of 100\n",
      "[Parallel(n_jobs=1)]: Done  72 out of  72 | elapsed:  3.0min remaining:    0.0s\n",
      "building tree 73 of 100\n",
      "[Parallel(n_jobs=1)]: Done  73 out of  73 | elapsed:  3.0min remaining:    0.0s\n",
      "building tree 74 of 100\n",
      "[Parallel(n_jobs=1)]: Done  74 out of  74 | elapsed:  3.1min remaining:    0.0s\n",
      "building tree 75 of 100\n",
      "[Parallel(n_jobs=1)]: Done  75 out of  75 | elapsed:  3.1min remaining:    0.0s\n",
      "building tree 76 of 100\n",
      "[Parallel(n_jobs=1)]: Done  76 out of  76 | elapsed:  3.2min remaining:    0.0s\n",
      "building tree 77 of 100\n",
      "[Parallel(n_jobs=1)]: Done  77 out of  77 | elapsed:  3.2min remaining:    0.0s\n",
      "building tree 78 of 100\n",
      "[Parallel(n_jobs=1)]: Done  78 out of  78 | elapsed:  3.2min remaining:    0.0s\n",
      "building tree 79 of 100\n",
      "[Parallel(n_jobs=1)]: Done  79 out of  79 | elapsed:  3.3min remaining:    0.0s\n",
      "building tree 80 of 100\n",
      "[Parallel(n_jobs=1)]: Done  80 out of  80 | elapsed:  3.3min remaining:    0.0s\n",
      "building tree 81 of 100\n",
      "[Parallel(n_jobs=1)]: Done  81 out of  81 | elapsed:  3.4min remaining:    0.0s\n",
      "building tree 82 of 100\n",
      "[Parallel(n_jobs=1)]: Done  82 out of  82 | elapsed:  3.4min remaining:    0.0s\n",
      "building tree 83 of 100\n",
      "[Parallel(n_jobs=1)]: Done  83 out of  83 | elapsed:  3.5min remaining:    0.0s\n",
      "building tree 84 of 100\n",
      "[Parallel(n_jobs=1)]: Done  84 out of  84 | elapsed:  3.5min remaining:    0.0s\n",
      "building tree 85 of 100\n",
      "[Parallel(n_jobs=1)]: Done  85 out of  85 | elapsed:  3.5min remaining:    0.0s\n",
      "building tree 86 of 100\n",
      "[Parallel(n_jobs=1)]: Done  86 out of  86 | elapsed:  3.6min remaining:    0.0s\n",
      "building tree 87 of 100\n",
      "[Parallel(n_jobs=1)]: Done  87 out of  87 | elapsed:  3.6min remaining:    0.0s\n",
      "building tree 88 of 100\n",
      "[Parallel(n_jobs=1)]: Done  88 out of  88 | elapsed:  3.7min remaining:    0.0s\n",
      "building tree 89 of 100\n",
      "[Parallel(n_jobs=1)]: Done  89 out of  89 | elapsed:  3.7min remaining:    0.0s\n",
      "building tree 90 of 100\n",
      "[Parallel(n_jobs=1)]: Done  90 out of  90 | elapsed:  3.8min remaining:    0.0s\n",
      "building tree 91 of 100\n",
      "[Parallel(n_jobs=1)]: Done  91 out of  91 | elapsed:  3.8min remaining:    0.0s\n",
      "building tree 92 of 100\n",
      "[Parallel(n_jobs=1)]: Done  92 out of  92 | elapsed:  3.8min remaining:    0.0s\n",
      "building tree 93 of 100\n",
      "[Parallel(n_jobs=1)]: Done  93 out of  93 | elapsed:  3.9min remaining:    0.0s\n",
      "building tree 94 of 100\n",
      "[Parallel(n_jobs=1)]: Done  94 out of  94 | elapsed:  3.9min remaining:    0.0s\n",
      "building tree 95 of 100\n",
      "[Parallel(n_jobs=1)]: Done  95 out of  95 | elapsed:  4.0min remaining:    0.0s\n",
      "building tree 96 of 100\n",
      "[Parallel(n_jobs=1)]: Done  96 out of  96 | elapsed:  4.0min remaining:    0.0s\n",
      "building tree 97 of 100\n",
      "[Parallel(n_jobs=1)]: Done  97 out of  97 | elapsed:  4.1min remaining:    0.0s\n",
      "building tree 98 of 100\n",
      "[Parallel(n_jobs=1)]: Done  98 out of  98 | elapsed:  4.1min remaining:    0.0s\n",
      "building tree 99 of 100\n",
      "[Parallel(n_jobs=1)]: Done  99 out of  99 | elapsed:  4.1min remaining:    0.0s\n",
      "building tree 100 of 100\n",
      "[Parallel(n_jobs=1)]: Done 100 out of 100 | elapsed:  4.2min finished\n",
      "[Parallel(n_jobs=1)]: Using backend SequentialBackend with 1 concurrent workers.\n",
      "[Parallel(n_jobs=1)]: Done   1 out of   1 | elapsed:    0.0s remaining:    0.0s\n",
      "[Parallel(n_jobs=1)]: Done   2 out of   2 | elapsed:    0.1s remaining:    0.0s\n",
      "[Parallel(n_jobs=1)]: Done   3 out of   3 | elapsed:    0.1s remaining:    0.0s\n",
      "[Parallel(n_jobs=1)]: Done   4 out of   4 | elapsed:    0.1s remaining:    0.0s\n",
      "[Parallel(n_jobs=1)]: Done   5 out of   5 | elapsed:    0.2s remaining:    0.0s\n",
      "[Parallel(n_jobs=1)]: Done   6 out of   6 | elapsed:    0.2s remaining:    0.0s\n",
      "[Parallel(n_jobs=1)]: Done   7 out of   7 | elapsed:    0.2s remaining:    0.0s\n",
      "[Parallel(n_jobs=1)]: Done   8 out of   8 | elapsed:    0.3s remaining:    0.0s\n",
      "[Parallel(n_jobs=1)]: Done   9 out of   9 | elapsed:    0.3s remaining:    0.0s\n",
      "[Parallel(n_jobs=1)]: Done  10 out of  10 | elapsed:    0.3s remaining:    0.0s\n",
      "[Parallel(n_jobs=1)]: Done  11 out of  11 | elapsed:    0.4s remaining:    0.0s\n",
      "[Parallel(n_jobs=1)]: Done  12 out of  12 | elapsed:    0.4s remaining:    0.0s\n",
      "[Parallel(n_jobs=1)]: Done  13 out of  13 | elapsed:    0.4s remaining:    0.0s\n",
      "[Parallel(n_jobs=1)]: Done  14 out of  14 | elapsed:    0.5s remaining:    0.0s\n",
      "[Parallel(n_jobs=1)]: Done  15 out of  15 | elapsed:    0.5s remaining:    0.0s\n",
      "[Parallel(n_jobs=1)]: Done  16 out of  16 | elapsed:    0.5s remaining:    0.0s\n",
      "[Parallel(n_jobs=1)]: Done  17 out of  17 | elapsed:    0.6s remaining:    0.0s\n",
      "[Parallel(n_jobs=1)]: Done  18 out of  18 | elapsed:    0.6s remaining:    0.0s\n",
      "[Parallel(n_jobs=1)]: Done  19 out of  19 | elapsed:    0.6s remaining:    0.0s\n",
      "[Parallel(n_jobs=1)]: Done  20 out of  20 | elapsed:    0.7s remaining:    0.0s\n",
      "[Parallel(n_jobs=1)]: Done  21 out of  21 | elapsed:    0.7s remaining:    0.0s\n",
      "[Parallel(n_jobs=1)]: Done  22 out of  22 | elapsed:    0.7s remaining:    0.0s\n",
      "[Parallel(n_jobs=1)]: Done  23 out of  23 | elapsed:    0.8s remaining:    0.0s\n",
      "[Parallel(n_jobs=1)]: Done  24 out of  24 | elapsed:    0.8s remaining:    0.0s\n",
      "[Parallel(n_jobs=1)]: Done  25 out of  25 | elapsed:    0.8s remaining:    0.0s\n",
      "[Parallel(n_jobs=1)]: Done  26 out of  26 | elapsed:    0.9s remaining:    0.0s\n",
      "[Parallel(n_jobs=1)]: Done  27 out of  27 | elapsed:    0.9s remaining:    0.0s\n",
      "[Parallel(n_jobs=1)]: Done  28 out of  28 | elapsed:    0.9s remaining:    0.0s\n",
      "[Parallel(n_jobs=1)]: Done  29 out of  29 | elapsed:    1.0s remaining:    0.0s\n",
      "[Parallel(n_jobs=1)]: Done  30 out of  30 | elapsed:    1.0s remaining:    0.0s\n",
      "[Parallel(n_jobs=1)]: Done  31 out of  31 | elapsed:    1.0s remaining:    0.0s\n",
      "[Parallel(n_jobs=1)]: Done  32 out of  32 | elapsed:    1.1s remaining:    0.0s\n",
      "[Parallel(n_jobs=1)]: Done  33 out of  33 | elapsed:    1.1s remaining:    0.0s\n",
      "[Parallel(n_jobs=1)]: Done  34 out of  34 | elapsed:    1.1s remaining:    0.0s\n",
      "[Parallel(n_jobs=1)]: Done  35 out of  35 | elapsed:    1.2s remaining:    0.0s\n",
      "[Parallel(n_jobs=1)]: Done  36 out of  36 | elapsed:    1.2s remaining:    0.0s\n",
      "[Parallel(n_jobs=1)]: Done  37 out of  37 | elapsed:    1.2s remaining:    0.0s\n",
      "[Parallel(n_jobs=1)]: Done  38 out of  38 | elapsed:    1.3s remaining:    0.0s\n",
      "[Parallel(n_jobs=1)]: Done  39 out of  39 | elapsed:    1.3s remaining:    0.0s\n",
      "[Parallel(n_jobs=1)]: Done  40 out of  40 | elapsed:    1.3s remaining:    0.0s\n",
      "[Parallel(n_jobs=1)]: Done  41 out of  41 | elapsed:    1.4s remaining:    0.0s\n",
      "[Parallel(n_jobs=1)]: Done  42 out of  42 | elapsed:    1.4s remaining:    0.0s\n",
      "[Parallel(n_jobs=1)]: Done  43 out of  43 | elapsed:    1.4s remaining:    0.0s\n",
      "[Parallel(n_jobs=1)]: Done  44 out of  44 | elapsed:    1.5s remaining:    0.0s\n",
      "[Parallel(n_jobs=1)]: Done  45 out of  45 | elapsed:    1.5s remaining:    0.0s\n",
      "[Parallel(n_jobs=1)]: Done  46 out of  46 | elapsed:    1.6s remaining:    0.0s\n",
      "[Parallel(n_jobs=1)]: Done  47 out of  47 | elapsed:    1.6s remaining:    0.0s\n",
      "[Parallel(n_jobs=1)]: Done  48 out of  48 | elapsed:    1.6s remaining:    0.0s\n",
      "[Parallel(n_jobs=1)]: Done  49 out of  49 | elapsed:    1.7s remaining:    0.0s\n",
      "[Parallel(n_jobs=1)]: Done  50 out of  50 | elapsed:    1.7s remaining:    0.0s\n",
      "[Parallel(n_jobs=1)]: Done  51 out of  51 | elapsed:    1.7s remaining:    0.0s\n",
      "[Parallel(n_jobs=1)]: Done  52 out of  52 | elapsed:    1.8s remaining:    0.0s\n",
      "[Parallel(n_jobs=1)]: Done  53 out of  53 | elapsed:    1.8s remaining:    0.0s\n",
      "[Parallel(n_jobs=1)]: Done  54 out of  54 | elapsed:    1.8s remaining:    0.0s\n",
      "[Parallel(n_jobs=1)]: Done  55 out of  55 | elapsed:    1.9s remaining:    0.0s\n",
      "[Parallel(n_jobs=1)]: Done  56 out of  56 | elapsed:    1.9s remaining:    0.0s\n",
      "[Parallel(n_jobs=1)]: Done  57 out of  57 | elapsed:    1.9s remaining:    0.0s\n",
      "[Parallel(n_jobs=1)]: Done  58 out of  58 | elapsed:    2.0s remaining:    0.0s\n",
      "[Parallel(n_jobs=1)]: Done  59 out of  59 | elapsed:    2.0s remaining:    0.0s\n",
      "[Parallel(n_jobs=1)]: Done  60 out of  60 | elapsed:    2.0s remaining:    0.0s\n",
      "[Parallel(n_jobs=1)]: Done  61 out of  61 | elapsed:    2.0s remaining:    0.0s\n",
      "[Parallel(n_jobs=1)]: Done  62 out of  62 | elapsed:    2.1s remaining:    0.0s\n",
      "[Parallel(n_jobs=1)]: Done  63 out of  63 | elapsed:    2.1s remaining:    0.0s\n",
      "[Parallel(n_jobs=1)]: Done  64 out of  64 | elapsed:    2.1s remaining:    0.0s\n",
      "[Parallel(n_jobs=1)]: Done  65 out of  65 | elapsed:    2.2s remaining:    0.0s\n",
      "[Parallel(n_jobs=1)]: Done  66 out of  66 | elapsed:    2.2s remaining:    0.0s\n",
      "[Parallel(n_jobs=1)]: Done  67 out of  67 | elapsed:    2.2s remaining:    0.0s\n",
      "[Parallel(n_jobs=1)]: Done  68 out of  68 | elapsed:    2.3s remaining:    0.0s\n",
      "[Parallel(n_jobs=1)]: Done  69 out of  69 | elapsed:    2.3s remaining:    0.0s\n",
      "[Parallel(n_jobs=1)]: Done  70 out of  70 | elapsed:    2.3s remaining:    0.0s\n",
      "[Parallel(n_jobs=1)]: Done  71 out of  71 | elapsed:    2.4s remaining:    0.0s\n",
      "[Parallel(n_jobs=1)]: Done  72 out of  72 | elapsed:    2.4s remaining:    0.0s\n",
      "[Parallel(n_jobs=1)]: Done  73 out of  73 | elapsed:    2.4s remaining:    0.0s\n",
      "[Parallel(n_jobs=1)]: Done  74 out of  74 | elapsed:    2.4s remaining:    0.0s\n",
      "[Parallel(n_jobs=1)]: Done  75 out of  75 | elapsed:    2.5s remaining:    0.0s\n",
      "[Parallel(n_jobs=1)]: Done  76 out of  76 | elapsed:    2.5s remaining:    0.0s\n",
      "[Parallel(n_jobs=1)]: Done  77 out of  77 | elapsed:    2.5s remaining:    0.0s\n",
      "[Parallel(n_jobs=1)]: Done  78 out of  78 | elapsed:    2.6s remaining:    0.0s\n",
      "[Parallel(n_jobs=1)]: Done  79 out of  79 | elapsed:    2.6s remaining:    0.0s\n",
      "[Parallel(n_jobs=1)]: Done  80 out of  80 | elapsed:    2.6s remaining:    0.0s\n",
      "[Parallel(n_jobs=1)]: Done  81 out of  81 | elapsed:    2.6s remaining:    0.0s\n",
      "[Parallel(n_jobs=1)]: Done  82 out of  82 | elapsed:    2.7s remaining:    0.0s\n",
      "[Parallel(n_jobs=1)]: Done  83 out of  83 | elapsed:    2.7s remaining:    0.0s\n",
      "[Parallel(n_jobs=1)]: Done  84 out of  84 | elapsed:    2.7s remaining:    0.0s\n",
      "[Parallel(n_jobs=1)]: Done  85 out of  85 | elapsed:    2.8s remaining:    0.0s\n",
      "[Parallel(n_jobs=1)]: Done  86 out of  86 | elapsed:    2.8s remaining:    0.0s\n",
      "[Parallel(n_jobs=1)]: Done  87 out of  87 | elapsed:    2.8s remaining:    0.0s\n",
      "[Parallel(n_jobs=1)]: Done  88 out of  88 | elapsed:    2.9s remaining:    0.0s\n",
      "[Parallel(n_jobs=1)]: Done  89 out of  89 | elapsed:    2.9s remaining:    0.0s\n",
      "[Parallel(n_jobs=1)]: Done  90 out of  90 | elapsed:    2.9s remaining:    0.0s\n",
      "[Parallel(n_jobs=1)]: Done  91 out of  91 | elapsed:    2.9s remaining:    0.0s\n",
      "[Parallel(n_jobs=1)]: Done  92 out of  92 | elapsed:    3.0s remaining:    0.0s\n",
      "[Parallel(n_jobs=1)]: Done  93 out of  93 | elapsed:    3.0s remaining:    0.0s\n",
      "[Parallel(n_jobs=1)]: Done  94 out of  94 | elapsed:    3.0s remaining:    0.0s\n",
      "[Parallel(n_jobs=1)]: Done  95 out of  95 | elapsed:    3.1s remaining:    0.0s\n",
      "[Parallel(n_jobs=1)]: Done  96 out of  96 | elapsed:    3.1s remaining:    0.0s\n",
      "[Parallel(n_jobs=1)]: Done  97 out of  97 | elapsed:    3.1s remaining:    0.0s\n",
      "[Parallel(n_jobs=1)]: Done  98 out of  98 | elapsed:    3.1s remaining:    0.0s\n",
      "[Parallel(n_jobs=1)]: Done  99 out of  99 | elapsed:    3.2s remaining:    0.0s\n",
      "[Parallel(n_jobs=1)]: Done 100 out of 100 | elapsed:    3.2s finished\n",
      "CPU times: user 4min 12s, sys: 3.65 s, total: 4min 15s\n",
      "Wall time: 4min 17s\n"
     ]
    },
    {
     "data": {
      "text/plain": "0.7474658840859421"
     },
     "execution_count": 45,
     "metadata": {},
     "output_type": "execute_result"
    }
   ],
   "source": [
    "%%time\n",
    "\n",
    "clf = RandomForestClassifier(verbose=100)\n",
    "clf.fit(X_train[particle_swarm_forest_columns], y_train)\n",
    "y_predict = clf.predict(X_test[particle_swarm_forest_columns])\n",
    "roc_auc_score(y_test, y_predict)"
   ],
   "metadata": {
    "collapsed": false
   }
  },
  {
   "cell_type": "markdown",
   "source": [
    "### Let's also check the results without feature engineering"
   ],
   "metadata": {
    "collapsed": false
   }
  },
  {
   "cell_type": "code",
   "execution_count": 46,
   "outputs": [
    {
     "name": "stdout",
     "output_type": "stream",
     "text": [
      "[Parallel(n_jobs=1)]: Using backend SequentialBackend with 1 concurrent workers.\n",
      "building tree 1 of 100\n",
      "[Parallel(n_jobs=1)]: Done   1 out of   1 | elapsed:    3.5s remaining:    0.0s\n",
      "building tree 2 of 100\n",
      "[Parallel(n_jobs=1)]: Done   2 out of   2 | elapsed:    7.1s remaining:    0.0s\n",
      "building tree 3 of 100\n",
      "[Parallel(n_jobs=1)]: Done   3 out of   3 | elapsed:   11.3s remaining:    0.0s\n",
      "building tree 4 of 100\n",
      "[Parallel(n_jobs=1)]: Done   4 out of   4 | elapsed:   15.1s remaining:    0.0s\n",
      "building tree 5 of 100\n",
      "[Parallel(n_jobs=1)]: Done   5 out of   5 | elapsed:   18.3s remaining:    0.0s\n",
      "building tree 6 of 100\n",
      "[Parallel(n_jobs=1)]: Done   6 out of   6 | elapsed:   22.1s remaining:    0.0s\n",
      "building tree 7 of 100\n",
      "[Parallel(n_jobs=1)]: Done   7 out of   7 | elapsed:   25.6s remaining:    0.0s\n",
      "building tree 8 of 100\n",
      "[Parallel(n_jobs=1)]: Done   8 out of   8 | elapsed:   29.8s remaining:    0.0s\n",
      "building tree 9 of 100\n",
      "[Parallel(n_jobs=1)]: Done   9 out of   9 | elapsed:   33.4s remaining:    0.0s\n",
      "building tree 10 of 100\n",
      "[Parallel(n_jobs=1)]: Done  10 out of  10 | elapsed:   37.5s remaining:    0.0s\n",
      "building tree 11 of 100\n",
      "[Parallel(n_jobs=1)]: Done  11 out of  11 | elapsed:   41.5s remaining:    0.0s\n",
      "building tree 12 of 100\n",
      "[Parallel(n_jobs=1)]: Done  12 out of  12 | elapsed:   44.8s remaining:    0.0s\n",
      "building tree 13 of 100\n",
      "[Parallel(n_jobs=1)]: Done  13 out of  13 | elapsed:   48.4s remaining:    0.0s\n",
      "building tree 14 of 100\n",
      "[Parallel(n_jobs=1)]: Done  14 out of  14 | elapsed:   52.4s remaining:    0.0s\n",
      "building tree 15 of 100\n",
      "[Parallel(n_jobs=1)]: Done  15 out of  15 | elapsed:   56.2s remaining:    0.0s\n",
      "building tree 16 of 100\n",
      "[Parallel(n_jobs=1)]: Done  16 out of  16 | elapsed:   59.8s remaining:    0.0s\n",
      "building tree 17 of 100\n",
      "[Parallel(n_jobs=1)]: Done  17 out of  17 | elapsed:  1.1min remaining:    0.0s\n",
      "building tree 18 of 100\n",
      "[Parallel(n_jobs=1)]: Done  18 out of  18 | elapsed:  1.1min remaining:    0.0s\n",
      "building tree 19 of 100\n",
      "[Parallel(n_jobs=1)]: Done  19 out of  19 | elapsed:  1.2min remaining:    0.0s\n",
      "building tree 20 of 100\n",
      "[Parallel(n_jobs=1)]: Done  20 out of  20 | elapsed:  1.2min remaining:    0.0s\n",
      "building tree 21 of 100\n",
      "[Parallel(n_jobs=1)]: Done  21 out of  21 | elapsed:  1.3min remaining:    0.0s\n",
      "building tree 22 of 100\n",
      "[Parallel(n_jobs=1)]: Done  22 out of  22 | elapsed:  1.4min remaining:    0.0s\n",
      "building tree 23 of 100\n",
      "[Parallel(n_jobs=1)]: Done  23 out of  23 | elapsed:  1.4min remaining:    0.0s\n",
      "building tree 24 of 100\n",
      "[Parallel(n_jobs=1)]: Done  24 out of  24 | elapsed:  1.5min remaining:    0.0s\n",
      "building tree 25 of 100\n",
      "[Parallel(n_jobs=1)]: Done  25 out of  25 | elapsed:  1.5min remaining:    0.0s\n",
      "building tree 26 of 100\n",
      "[Parallel(n_jobs=1)]: Done  26 out of  26 | elapsed:  1.6min remaining:    0.0s\n",
      "building tree 27 of 100\n",
      "[Parallel(n_jobs=1)]: Done  27 out of  27 | elapsed:  1.7min remaining:    0.0s\n",
      "building tree 28 of 100\n",
      "[Parallel(n_jobs=1)]: Done  28 out of  28 | elapsed:  1.7min remaining:    0.0s\n",
      "building tree 29 of 100\n",
      "[Parallel(n_jobs=1)]: Done  29 out of  29 | elapsed:  1.8min remaining:    0.0s\n",
      "building tree 30 of 100\n",
      "[Parallel(n_jobs=1)]: Done  30 out of  30 | elapsed:  1.9min remaining:    0.0s\n",
      "building tree 31 of 100\n",
      "[Parallel(n_jobs=1)]: Done  31 out of  31 | elapsed:  1.9min remaining:    0.0s\n",
      "building tree 32 of 100\n",
      "[Parallel(n_jobs=1)]: Done  32 out of  32 | elapsed:  2.0min remaining:    0.0s\n",
      "building tree 33 of 100\n",
      "[Parallel(n_jobs=1)]: Done  33 out of  33 | elapsed:  2.0min remaining:    0.0s\n",
      "building tree 34 of 100\n",
      "[Parallel(n_jobs=1)]: Done  34 out of  34 | elapsed:  2.1min remaining:    0.0s\n",
      "building tree 35 of 100\n",
      "[Parallel(n_jobs=1)]: Done  35 out of  35 | elapsed:  2.1min remaining:    0.0s\n",
      "building tree 36 of 100\n",
      "[Parallel(n_jobs=1)]: Done  36 out of  36 | elapsed:  2.2min remaining:    0.0s\n",
      "building tree 37 of 100\n",
      "[Parallel(n_jobs=1)]: Done  37 out of  37 | elapsed:  2.3min remaining:    0.0s\n",
      "building tree 38 of 100\n",
      "[Parallel(n_jobs=1)]: Done  38 out of  38 | elapsed:  2.3min remaining:    0.0s\n",
      "building tree 39 of 100\n",
      "[Parallel(n_jobs=1)]: Done  39 out of  39 | elapsed:  2.4min remaining:    0.0s\n",
      "building tree 40 of 100\n",
      "[Parallel(n_jobs=1)]: Done  40 out of  40 | elapsed:  2.4min remaining:    0.0s\n",
      "building tree 41 of 100\n",
      "[Parallel(n_jobs=1)]: Done  41 out of  41 | elapsed:  2.5min remaining:    0.0s\n",
      "building tree 42 of 100\n",
      "[Parallel(n_jobs=1)]: Done  42 out of  42 | elapsed:  2.6min remaining:    0.0s\n",
      "building tree 43 of 100\n",
      "[Parallel(n_jobs=1)]: Done  43 out of  43 | elapsed:  2.6min remaining:    0.0s\n",
      "building tree 44 of 100\n",
      "[Parallel(n_jobs=1)]: Done  44 out of  44 | elapsed:  2.7min remaining:    0.0s\n",
      "building tree 45 of 100\n",
      "[Parallel(n_jobs=1)]: Done  45 out of  45 | elapsed:  2.7min remaining:    0.0s\n",
      "building tree 46 of 100\n",
      "[Parallel(n_jobs=1)]: Done  46 out of  46 | elapsed:  2.8min remaining:    0.0s\n",
      "building tree 47 of 100\n",
      "[Parallel(n_jobs=1)]: Done  47 out of  47 | elapsed:  2.8min remaining:    0.0s\n",
      "building tree 48 of 100\n",
      "[Parallel(n_jobs=1)]: Done  48 out of  48 | elapsed:  2.9min remaining:    0.0s\n",
      "building tree 49 of 100\n",
      "[Parallel(n_jobs=1)]: Done  49 out of  49 | elapsed:  3.0min remaining:    0.0s\n",
      "building tree 50 of 100\n",
      "[Parallel(n_jobs=1)]: Done  50 out of  50 | elapsed:  3.0min remaining:    0.0s\n",
      "building tree 51 of 100\n",
      "[Parallel(n_jobs=1)]: Done  51 out of  51 | elapsed:  3.1min remaining:    0.0s\n",
      "building tree 52 of 100\n",
      "[Parallel(n_jobs=1)]: Done  52 out of  52 | elapsed:  3.1min remaining:    0.0s\n",
      "building tree 53 of 100\n",
      "[Parallel(n_jobs=1)]: Done  53 out of  53 | elapsed:  3.2min remaining:    0.0s\n",
      "building tree 54 of 100\n",
      "[Parallel(n_jobs=1)]: Done  54 out of  54 | elapsed:  3.3min remaining:    0.0s\n",
      "building tree 55 of 100\n",
      "[Parallel(n_jobs=1)]: Done  55 out of  55 | elapsed:  3.3min remaining:    0.0s\n",
      "building tree 56 of 100\n",
      "[Parallel(n_jobs=1)]: Done  56 out of  56 | elapsed:  3.4min remaining:    0.0s\n",
      "building tree 57 of 100\n",
      "[Parallel(n_jobs=1)]: Done  57 out of  57 | elapsed:  3.4min remaining:    0.0s\n",
      "building tree 58 of 100\n",
      "[Parallel(n_jobs=1)]: Done  58 out of  58 | elapsed:  3.5min remaining:    0.0s\n",
      "building tree 59 of 100\n",
      "[Parallel(n_jobs=1)]: Done  59 out of  59 | elapsed:  3.5min remaining:    0.0s\n",
      "building tree 60 of 100\n",
      "[Parallel(n_jobs=1)]: Done  60 out of  60 | elapsed:  3.6min remaining:    0.0s\n",
      "building tree 61 of 100\n",
      "[Parallel(n_jobs=1)]: Done  61 out of  61 | elapsed:  3.7min remaining:    0.0s\n",
      "building tree 62 of 100\n",
      "[Parallel(n_jobs=1)]: Done  62 out of  62 | elapsed:  3.7min remaining:    0.0s\n",
      "building tree 63 of 100\n",
      "[Parallel(n_jobs=1)]: Done  63 out of  63 | elapsed:  3.8min remaining:    0.0s\n",
      "building tree 64 of 100\n",
      "[Parallel(n_jobs=1)]: Done  64 out of  64 | elapsed:  3.8min remaining:    0.0s\n",
      "building tree 65 of 100\n",
      "[Parallel(n_jobs=1)]: Done  65 out of  65 | elapsed:  3.9min remaining:    0.0s\n",
      "building tree 66 of 100\n",
      "[Parallel(n_jobs=1)]: Done  66 out of  66 | elapsed:  3.9min remaining:    0.0s\n",
      "building tree 67 of 100\n",
      "[Parallel(n_jobs=1)]: Done  67 out of  67 | elapsed:  4.0min remaining:    0.0s\n",
      "building tree 68 of 100\n",
      "[Parallel(n_jobs=1)]: Done  68 out of  68 | elapsed:  4.1min remaining:    0.0s\n",
      "building tree 69 of 100\n",
      "[Parallel(n_jobs=1)]: Done  69 out of  69 | elapsed:  4.1min remaining:    0.0s\n",
      "building tree 70 of 100\n",
      "[Parallel(n_jobs=1)]: Done  70 out of  70 | elapsed:  4.2min remaining:    0.0s\n",
      "building tree 71 of 100\n",
      "[Parallel(n_jobs=1)]: Done  71 out of  71 | elapsed:  4.2min remaining:    0.0s\n",
      "building tree 72 of 100\n",
      "[Parallel(n_jobs=1)]: Done  72 out of  72 | elapsed:  4.3min remaining:    0.0s\n",
      "building tree 73 of 100\n",
      "[Parallel(n_jobs=1)]: Done  73 out of  73 | elapsed:  4.4min remaining:    0.0s\n",
      "building tree 74 of 100\n",
      "[Parallel(n_jobs=1)]: Done  74 out of  74 | elapsed:  4.4min remaining:    0.0s\n",
      "building tree 75 of 100\n",
      "[Parallel(n_jobs=1)]: Done  75 out of  75 | elapsed:  4.5min remaining:    0.0s\n",
      "building tree 76 of 100\n",
      "[Parallel(n_jobs=1)]: Done  76 out of  76 | elapsed:  4.5min remaining:    0.0s\n",
      "building tree 77 of 100\n",
      "[Parallel(n_jobs=1)]: Done  77 out of  77 | elapsed:  4.6min remaining:    0.0s\n",
      "building tree 78 of 100\n",
      "[Parallel(n_jobs=1)]: Done  78 out of  78 | elapsed:  4.6min remaining:    0.0s\n",
      "building tree 79 of 100\n",
      "[Parallel(n_jobs=1)]: Done  79 out of  79 | elapsed:  4.7min remaining:    0.0s\n",
      "building tree 80 of 100\n",
      "[Parallel(n_jobs=1)]: Done  80 out of  80 | elapsed:  4.8min remaining:    0.0s\n",
      "building tree 81 of 100\n",
      "[Parallel(n_jobs=1)]: Done  81 out of  81 | elapsed:  4.8min remaining:    0.0s\n",
      "building tree 82 of 100\n",
      "[Parallel(n_jobs=1)]: Done  82 out of  82 | elapsed:  4.9min remaining:    0.0s\n",
      "building tree 83 of 100\n",
      "[Parallel(n_jobs=1)]: Done  83 out of  83 | elapsed:  4.9min remaining:    0.0s\n",
      "building tree 84 of 100\n",
      "[Parallel(n_jobs=1)]: Done  84 out of  84 | elapsed:  5.0min remaining:    0.0s\n",
      "building tree 85 of 100\n",
      "[Parallel(n_jobs=1)]: Done  85 out of  85 | elapsed:  5.0min remaining:    0.0s\n",
      "building tree 86 of 100\n",
      "[Parallel(n_jobs=1)]: Done  86 out of  86 | elapsed:  5.1min remaining:    0.0s\n",
      "building tree 87 of 100\n",
      "[Parallel(n_jobs=1)]: Done  87 out of  87 | elapsed:  5.2min remaining:    0.0s\n",
      "building tree 88 of 100\n",
      "[Parallel(n_jobs=1)]: Done  88 out of  88 | elapsed:  5.2min remaining:    0.0s\n",
      "building tree 89 of 100\n",
      "[Parallel(n_jobs=1)]: Done  89 out of  89 | elapsed:  5.3min remaining:    0.0s\n",
      "building tree 90 of 100\n",
      "[Parallel(n_jobs=1)]: Done  90 out of  90 | elapsed:  5.3min remaining:    0.0s\n",
      "building tree 91 of 100\n",
      "[Parallel(n_jobs=1)]: Done  91 out of  91 | elapsed:  5.4min remaining:    0.0s\n",
      "building tree 92 of 100\n",
      "[Parallel(n_jobs=1)]: Done  92 out of  92 | elapsed:  5.4min remaining:    0.0s\n",
      "building tree 93 of 100\n",
      "[Parallel(n_jobs=1)]: Done  93 out of  93 | elapsed:  5.5min remaining:    0.0s\n",
      "building tree 94 of 100\n",
      "[Parallel(n_jobs=1)]: Done  94 out of  94 | elapsed:  5.6min remaining:    0.0s\n",
      "building tree 95 of 100\n",
      "[Parallel(n_jobs=1)]: Done  95 out of  95 | elapsed:  5.6min remaining:    0.0s\n",
      "building tree 96 of 100\n",
      "[Parallel(n_jobs=1)]: Done  96 out of  96 | elapsed:  5.7min remaining:    0.0s\n",
      "building tree 97 of 100\n",
      "[Parallel(n_jobs=1)]: Done  97 out of  97 | elapsed:  5.7min remaining:    0.0s\n",
      "building tree 98 of 100\n",
      "[Parallel(n_jobs=1)]: Done  98 out of  98 | elapsed:  5.8min remaining:    0.0s\n",
      "building tree 99 of 100\n",
      "[Parallel(n_jobs=1)]: Done  99 out of  99 | elapsed:  5.9min remaining:    0.0s\n",
      "building tree 100 of 100\n",
      "[Parallel(n_jobs=1)]: Done 100 out of 100 | elapsed:  5.9min finished\n",
      "[Parallel(n_jobs=1)]: Using backend SequentialBackend with 1 concurrent workers.\n",
      "[Parallel(n_jobs=1)]: Done   1 out of   1 | elapsed:    0.0s remaining:    0.0s\n",
      "[Parallel(n_jobs=1)]: Done   2 out of   2 | elapsed:    0.1s remaining:    0.0s\n",
      "[Parallel(n_jobs=1)]: Done   3 out of   3 | elapsed:    0.1s remaining:    0.0s\n",
      "[Parallel(n_jobs=1)]: Done   4 out of   4 | elapsed:    0.2s remaining:    0.0s\n",
      "[Parallel(n_jobs=1)]: Done   5 out of   5 | elapsed:    0.2s remaining:    0.0s\n",
      "[Parallel(n_jobs=1)]: Done   6 out of   6 | elapsed:    0.2s remaining:    0.0s\n",
      "[Parallel(n_jobs=1)]: Done   7 out of   7 | elapsed:    0.3s remaining:    0.0s\n",
      "[Parallel(n_jobs=1)]: Done   8 out of   8 | elapsed:    0.3s remaining:    0.0s\n",
      "[Parallel(n_jobs=1)]: Done   9 out of   9 | elapsed:    0.4s remaining:    0.0s\n",
      "[Parallel(n_jobs=1)]: Done  10 out of  10 | elapsed:    0.4s remaining:    0.0s\n",
      "[Parallel(n_jobs=1)]: Done  11 out of  11 | elapsed:    0.4s remaining:    0.0s\n",
      "[Parallel(n_jobs=1)]: Done  12 out of  12 | elapsed:    0.5s remaining:    0.0s\n",
      "[Parallel(n_jobs=1)]: Done  13 out of  13 | elapsed:    0.5s remaining:    0.0s\n",
      "[Parallel(n_jobs=1)]: Done  14 out of  14 | elapsed:    0.5s remaining:    0.0s\n",
      "[Parallel(n_jobs=1)]: Done  15 out of  15 | elapsed:    0.6s remaining:    0.0s\n",
      "[Parallel(n_jobs=1)]: Done  16 out of  16 | elapsed:    0.6s remaining:    0.0s\n",
      "[Parallel(n_jobs=1)]: Done  17 out of  17 | elapsed:    0.6s remaining:    0.0s\n",
      "[Parallel(n_jobs=1)]: Done  18 out of  18 | elapsed:    0.7s remaining:    0.0s\n",
      "[Parallel(n_jobs=1)]: Done  19 out of  19 | elapsed:    0.7s remaining:    0.0s\n",
      "[Parallel(n_jobs=1)]: Done  20 out of  20 | elapsed:    0.7s remaining:    0.0s\n",
      "[Parallel(n_jobs=1)]: Done  21 out of  21 | elapsed:    0.8s remaining:    0.0s\n",
      "[Parallel(n_jobs=1)]: Done  22 out of  22 | elapsed:    0.8s remaining:    0.0s\n",
      "[Parallel(n_jobs=1)]: Done  23 out of  23 | elapsed:    0.9s remaining:    0.0s\n",
      "[Parallel(n_jobs=1)]: Done  24 out of  24 | elapsed:    0.9s remaining:    0.0s\n",
      "[Parallel(n_jobs=1)]: Done  25 out of  25 | elapsed:    0.9s remaining:    0.0s\n",
      "[Parallel(n_jobs=1)]: Done  26 out of  26 | elapsed:    1.0s remaining:    0.0s\n",
      "[Parallel(n_jobs=1)]: Done  27 out of  27 | elapsed:    1.0s remaining:    0.0s\n",
      "[Parallel(n_jobs=1)]: Done  28 out of  28 | elapsed:    1.0s remaining:    0.0s\n",
      "[Parallel(n_jobs=1)]: Done  29 out of  29 | elapsed:    1.1s remaining:    0.0s\n",
      "[Parallel(n_jobs=1)]: Done  30 out of  30 | elapsed:    1.1s remaining:    0.0s\n",
      "[Parallel(n_jobs=1)]: Done  31 out of  31 | elapsed:    1.1s remaining:    0.0s\n",
      "[Parallel(n_jobs=1)]: Done  32 out of  32 | elapsed:    1.2s remaining:    0.0s\n",
      "[Parallel(n_jobs=1)]: Done  33 out of  33 | elapsed:    1.2s remaining:    0.0s\n",
      "[Parallel(n_jobs=1)]: Done  34 out of  34 | elapsed:    1.2s remaining:    0.0s\n",
      "[Parallel(n_jobs=1)]: Done  35 out of  35 | elapsed:    1.3s remaining:    0.0s\n",
      "[Parallel(n_jobs=1)]: Done  36 out of  36 | elapsed:    1.3s remaining:    0.0s\n",
      "[Parallel(n_jobs=1)]: Done  37 out of  37 | elapsed:    1.3s remaining:    0.0s\n",
      "[Parallel(n_jobs=1)]: Done  38 out of  38 | elapsed:    1.4s remaining:    0.0s\n",
      "[Parallel(n_jobs=1)]: Done  39 out of  39 | elapsed:    1.4s remaining:    0.0s\n",
      "[Parallel(n_jobs=1)]: Done  40 out of  40 | elapsed:    1.4s remaining:    0.0s\n",
      "[Parallel(n_jobs=1)]: Done  41 out of  41 | elapsed:    1.5s remaining:    0.0s\n",
      "[Parallel(n_jobs=1)]: Done  42 out of  42 | elapsed:    1.5s remaining:    0.0s\n",
      "[Parallel(n_jobs=1)]: Done  43 out of  43 | elapsed:    1.6s remaining:    0.0s\n",
      "[Parallel(n_jobs=1)]: Done  44 out of  44 | elapsed:    1.6s remaining:    0.0s\n",
      "[Parallel(n_jobs=1)]: Done  45 out of  45 | elapsed:    1.6s remaining:    0.0s\n",
      "[Parallel(n_jobs=1)]: Done  46 out of  46 | elapsed:    1.7s remaining:    0.0s\n",
      "[Parallel(n_jobs=1)]: Done  47 out of  47 | elapsed:    1.7s remaining:    0.0s\n",
      "[Parallel(n_jobs=1)]: Done  48 out of  48 | elapsed:    1.7s remaining:    0.0s\n",
      "[Parallel(n_jobs=1)]: Done  49 out of  49 | elapsed:    1.8s remaining:    0.0s\n",
      "[Parallel(n_jobs=1)]: Done  50 out of  50 | elapsed:    1.8s remaining:    0.0s\n",
      "[Parallel(n_jobs=1)]: Done  51 out of  51 | elapsed:    1.8s remaining:    0.0s\n",
      "[Parallel(n_jobs=1)]: Done  52 out of  52 | elapsed:    1.9s remaining:    0.0s\n",
      "[Parallel(n_jobs=1)]: Done  53 out of  53 | elapsed:    1.9s remaining:    0.0s\n",
      "[Parallel(n_jobs=1)]: Done  54 out of  54 | elapsed:    1.9s remaining:    0.0s\n",
      "[Parallel(n_jobs=1)]: Done  55 out of  55 | elapsed:    2.0s remaining:    0.0s\n",
      "[Parallel(n_jobs=1)]: Done  56 out of  56 | elapsed:    2.0s remaining:    0.0s\n",
      "[Parallel(n_jobs=1)]: Done  57 out of  57 | elapsed:    2.0s remaining:    0.0s\n",
      "[Parallel(n_jobs=1)]: Done  58 out of  58 | elapsed:    2.1s remaining:    0.0s\n",
      "[Parallel(n_jobs=1)]: Done  59 out of  59 | elapsed:    2.1s remaining:    0.0s\n",
      "[Parallel(n_jobs=1)]: Done  60 out of  60 | elapsed:    2.2s remaining:    0.0s\n",
      "[Parallel(n_jobs=1)]: Done  61 out of  61 | elapsed:    2.2s remaining:    0.0s\n",
      "[Parallel(n_jobs=1)]: Done  62 out of  62 | elapsed:    2.2s remaining:    0.0s\n",
      "[Parallel(n_jobs=1)]: Done  63 out of  63 | elapsed:    2.3s remaining:    0.0s\n",
      "[Parallel(n_jobs=1)]: Done  64 out of  64 | elapsed:    2.3s remaining:    0.0s\n",
      "[Parallel(n_jobs=1)]: Done  65 out of  65 | elapsed:    2.3s remaining:    0.0s\n",
      "[Parallel(n_jobs=1)]: Done  66 out of  66 | elapsed:    2.4s remaining:    0.0s\n",
      "[Parallel(n_jobs=1)]: Done  67 out of  67 | elapsed:    2.4s remaining:    0.0s\n",
      "[Parallel(n_jobs=1)]: Done  68 out of  68 | elapsed:    2.4s remaining:    0.0s\n",
      "[Parallel(n_jobs=1)]: Done  69 out of  69 | elapsed:    2.5s remaining:    0.0s\n",
      "[Parallel(n_jobs=1)]: Done  70 out of  70 | elapsed:    2.5s remaining:    0.0s\n",
      "[Parallel(n_jobs=1)]: Done  71 out of  71 | elapsed:    2.5s remaining:    0.0s\n",
      "[Parallel(n_jobs=1)]: Done  72 out of  72 | elapsed:    2.6s remaining:    0.0s\n",
      "[Parallel(n_jobs=1)]: Done  73 out of  73 | elapsed:    2.6s remaining:    0.0s\n",
      "[Parallel(n_jobs=1)]: Done  74 out of  74 | elapsed:    2.6s remaining:    0.0s\n",
      "[Parallel(n_jobs=1)]: Done  75 out of  75 | elapsed:    2.7s remaining:    0.0s\n",
      "[Parallel(n_jobs=1)]: Done  76 out of  76 | elapsed:    2.7s remaining:    0.0s\n",
      "[Parallel(n_jobs=1)]: Done  77 out of  77 | elapsed:    2.8s remaining:    0.0s\n",
      "[Parallel(n_jobs=1)]: Done  78 out of  78 | elapsed:    2.8s remaining:    0.0s\n",
      "[Parallel(n_jobs=1)]: Done  79 out of  79 | elapsed:    2.8s remaining:    0.0s\n",
      "[Parallel(n_jobs=1)]: Done  80 out of  80 | elapsed:    2.9s remaining:    0.0s\n",
      "[Parallel(n_jobs=1)]: Done  81 out of  81 | elapsed:    2.9s remaining:    0.0s\n",
      "[Parallel(n_jobs=1)]: Done  82 out of  82 | elapsed:    2.9s remaining:    0.0s\n",
      "[Parallel(n_jobs=1)]: Done  83 out of  83 | elapsed:    3.0s remaining:    0.0s\n",
      "[Parallel(n_jobs=1)]: Done  84 out of  84 | elapsed:    3.0s remaining:    0.0s\n",
      "[Parallel(n_jobs=1)]: Done  85 out of  85 | elapsed:    3.0s remaining:    0.0s\n",
      "[Parallel(n_jobs=1)]: Done  86 out of  86 | elapsed:    3.1s remaining:    0.0s\n",
      "[Parallel(n_jobs=1)]: Done  87 out of  87 | elapsed:    3.1s remaining:    0.0s\n",
      "[Parallel(n_jobs=1)]: Done  88 out of  88 | elapsed:    3.1s remaining:    0.0s\n",
      "[Parallel(n_jobs=1)]: Done  89 out of  89 | elapsed:    3.2s remaining:    0.0s\n",
      "[Parallel(n_jobs=1)]: Done  90 out of  90 | elapsed:    3.2s remaining:    0.0s\n",
      "[Parallel(n_jobs=1)]: Done  91 out of  91 | elapsed:    3.2s remaining:    0.0s\n",
      "[Parallel(n_jobs=1)]: Done  92 out of  92 | elapsed:    3.3s remaining:    0.0s\n",
      "[Parallel(n_jobs=1)]: Done  93 out of  93 | elapsed:    3.3s remaining:    0.0s\n",
      "[Parallel(n_jobs=1)]: Done  94 out of  94 | elapsed:    3.3s remaining:    0.0s\n",
      "[Parallel(n_jobs=1)]: Done  95 out of  95 | elapsed:    3.4s remaining:    0.0s\n",
      "[Parallel(n_jobs=1)]: Done  96 out of  96 | elapsed:    3.4s remaining:    0.0s\n",
      "[Parallel(n_jobs=1)]: Done  97 out of  97 | elapsed:    3.4s remaining:    0.0s\n",
      "[Parallel(n_jobs=1)]: Done  98 out of  98 | elapsed:    3.5s remaining:    0.0s\n",
      "[Parallel(n_jobs=1)]: Done  99 out of  99 | elapsed:    3.5s remaining:    0.0s\n",
      "[Parallel(n_jobs=1)]: Done 100 out of 100 | elapsed:    3.5s finished\n"
     ]
    },
    {
     "data": {
      "text/plain": "0.7264743707125577"
     },
     "execution_count": 46,
     "metadata": {},
     "output_type": "execute_result"
    }
   ],
   "source": [
    "clf = RandomForestClassifier(verbose=100)\n",
    "clf.fit(X_train, y_train)\n",
    "y_predict = clf.predict(X_test)\n",
    "roc_auc_score(y_test, y_predict)"
   ],
   "metadata": {
    "collapsed": false
   }
  }
 ],
 "metadata": {
  "kernelspec": {
   "display_name": "Python 3",
   "language": "python",
   "name": "python3"
  },
  "language_info": {
   "codemirror_mode": {
    "name": "ipython",
    "version": 2
   },
   "file_extension": ".py",
   "mimetype": "text/x-python",
   "name": "python",
   "nbconvert_exporter": "python",
   "pygments_lexer": "ipython2",
   "version": "2.7.6"
  }
 },
 "nbformat": 4,
 "nbformat_minor": 0
}
