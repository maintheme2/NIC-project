{
 "cells": [
  {
   "cell_type": "markdown",
   "source": [
    "### Importing libraries"
   ],
   "metadata": {
    "collapsed": false
   }
  },
  {
   "cell_type": "code",
   "execution_count": 2,
   "metadata": {
    "collapsed": true
   },
   "outputs": [],
   "source": [
    "from NiaPy.algorithms.basic import FireflyAlgorithm, BatAlgorithm, ParticleSwarmOptimization\n",
    "from sklearn.tree import DecisionTreeClassifier\n",
    "from sklearn.linear_model import LogisticRegression\n",
    "from sklearn.ensemble import RandomForestClassifier\n",
    "from sklearn.metrics import roc_auc_score\n",
    "from imblearn.under_sampling import RandomUnderSampler\n",
    "\n",
    "from preprocessing import get_train_test_data\n",
    "from benchmark import ClassificationBenchmark\n",
    "from optimizer import optimize\n",
    "import warnings\n",
    "warnings.filterwarnings(\"ignore\")"
   ]
  },
  {
   "cell_type": "markdown",
   "source": [
    "### Loading and preparing training and testing data"
   ],
   "metadata": {
    "collapsed": false
   }
  },
  {
   "cell_type": "code",
   "execution_count": 3,
   "outputs": [
    {
     "name": "stdout",
     "output_type": "stream",
     "text": [
      "CPU times: user 1min 53s, sys: 1min 37s, total: 3min 30s\n",
      "Wall time: 3min 54s\n"
     ]
    }
   ],
   "source": [
    "%%time\n",
    "\n",
    "X_train, X_test, y_train, y_test = get_train_test_data('train_transaction.csv', 'train_identity.csv')"
   ],
   "metadata": {
    "collapsed": false
   }
  },
  {
   "cell_type": "code",
   "execution_count": 4,
   "outputs": [],
   "source": [
    "X_train_nia, y_train_nia = RandomUnderSampler().fit_resample(X_train, y_train)\n",
    "X_test_nia, y_test_nia = X_test, y_test"
   ],
   "metadata": {
    "collapsed": false
   }
  },
  {
   "cell_type": "markdown",
   "source": [
    "### Optimizing columns using Firefly algorithm and Decision Tree Classifier"
   ],
   "metadata": {
    "collapsed": false
   }
  },
  {
   "cell_type": "code",
   "execution_count": 6,
   "outputs": [
    {
     "name": "stderr",
     "output_type": "stream",
     "text": [
      " 20%|██        | 1/5 [29:02<1:56:11, 1742.88s/it]"
     ]
    },
    {
     "name": "stdout",
     "output_type": "stream",
     "text": [
      "--------------\n",
      "Run 1\n",
      "--------------\n",
      "Score: 0.7967592589458548\n",
      "Number of features selected: 107\n",
      "\n",
      "\n",
      "\n"
     ]
    },
    {
     "name": "stderr",
     "output_type": "stream",
     "text": [
      " 40%|████      | 2/5 [58:45<1:28:19, 1766.54s/it]"
     ]
    },
    {
     "name": "stdout",
     "output_type": "stream",
     "text": [
      "--------------\n",
      "Run 2\n",
      "--------------\n",
      "Score: 0.7943020237861125\n",
      "Number of features selected: 122\n",
      "\n",
      "\n",
      "\n"
     ]
    },
    {
     "name": "stderr",
     "output_type": "stream",
     "text": [
      " 60%|██████    | 3/5 [1:28:12<58:53, 1766.53s/it]"
     ]
    },
    {
     "name": "stdout",
     "output_type": "stream",
     "text": [
      "--------------\n",
      "Run 3\n",
      "--------------\n",
      "Score: 0.7984324931890024\n",
      "Number of features selected: 113\n",
      "\n",
      "\n",
      "\n"
     ]
    },
    {
     "name": "stderr",
     "output_type": "stream",
     "text": [
      " 80%|████████  | 4/5 [1:57:36<29:25, 1765.38s/it]"
     ]
    },
    {
     "name": "stdout",
     "output_type": "stream",
     "text": [
      "--------------\n",
      "Run 4\n",
      "--------------\n",
      "Score: 0.7952610425488922\n",
      "Number of features selected: 110\n",
      "\n",
      "\n",
      "\n"
     ]
    },
    {
     "name": "stderr",
     "output_type": "stream",
     "text": [
      "100%|██████████| 5/5 [2:27:31<00:00, 1770.33s/it]"
     ]
    },
    {
     "name": "stdout",
     "output_type": "stream",
     "text": [
      "--------------\n",
      "Run 5\n",
      "--------------\n",
      "Score: 0.7922101319280683\n",
      "Number of features selected: 122\n",
      "\n",
      "\n",
      "\n",
      "\n",
      "Best score of 5 runs: 0.7984324931890024\n",
      "Number of features selected: 113\n",
      "CPU times: user 2h 16min, sys: 11min 10s, total: 2h 27min 11s\n",
      "Wall time: 2h 27min 31s\n"
     ]
    },
    {
     "name": "stderr",
     "output_type": "stream",
     "text": [
      "\n"
     ]
    }
   ],
   "source": [
    "%%time\n",
    "\n",
    "firefly_decision_tree_benchmark = ClassificationBenchmark(DecisionTreeClassifier,\n",
    "                                                          roc_auc_score,\n",
    "                                                          X_train_nia,\n",
    "                                                          y_train_nia,\n",
    "                                                          X_test_nia,\n",
    "                                                          y_test_nia)\n",
    "\n",
    "firefly_decision_tree_columns = optimize(firefly_decision_tree_benchmark, FireflyAlgorithm(), 100)"
   ],
   "metadata": {
    "collapsed": false
   }
  },
  {
   "cell_type": "markdown",
   "source": [
    "### Optimizing columns using Firefly algorithm and Logistic Regression"
   ],
   "metadata": {
    "collapsed": false
   }
  },
  {
   "cell_type": "code",
   "execution_count": 7,
   "outputs": [
    {
     "name": "stderr",
     "output_type": "stream",
     "text": [
      " 20%|██        | 1/5 [18:44<1:14:57, 1124.49s/it]"
     ]
    },
    {
     "name": "stdout",
     "output_type": "stream",
     "text": [
      "--------------\n",
      "Run 1\n",
      "--------------\n",
      "Score: 0.7576257153282225\n",
      "Number of features selected: 113\n",
      "\n",
      "\n",
      "\n"
     ]
    },
    {
     "name": "stderr",
     "output_type": "stream",
     "text": [
      " 40%|████      | 2/5 [38:12<57:29, 1149.80s/it]  "
     ]
    },
    {
     "name": "stdout",
     "output_type": "stream",
     "text": [
      "--------------\n",
      "Run 2\n",
      "--------------\n",
      "Score: 0.756563275005898\n",
      "Number of features selected: 124\n",
      "\n",
      "\n",
      "\n"
     ]
    },
    {
     "name": "stderr",
     "output_type": "stream",
     "text": [
      " 60%|██████    | 3/5 [1:27:30<1:05:51, 1975.85s/it]"
     ]
    },
    {
     "name": "stdout",
     "output_type": "stream",
     "text": [
      "--------------\n",
      "Run 3\n",
      "--------------\n",
      "Score: 0.7581794547681722\n",
      "Number of features selected: 126\n",
      "\n",
      "\n",
      "\n"
     ]
    },
    {
     "name": "stderr",
     "output_type": "stream",
     "text": [
      " 80%|████████  | 4/5 [4:36:13<1:34:25, 5665.94s/it]"
     ]
    },
    {
     "name": "stdout",
     "output_type": "stream",
     "text": [
      "--------------\n",
      "Run 4\n",
      "--------------\n",
      "Score: 0.7575462917676032\n",
      "Number of features selected: 127\n",
      "\n",
      "\n",
      "\n"
     ]
    },
    {
     "name": "stderr",
     "output_type": "stream",
     "text": [
      "100%|██████████| 5/5 [5:35:46<00:00, 4029.34s/it]  "
     ]
    },
    {
     "name": "stdout",
     "output_type": "stream",
     "text": [
      "--------------\n",
      "Run 5\n",
      "--------------\n",
      "Score: 0.7574781690982269\n",
      "Number of features selected: 121\n",
      "\n",
      "\n",
      "\n",
      "\n",
      "Best score of 5 runs: 0.7581794547681722\n",
      "Number of features selected: 126\n",
      "CPU times: user 6h 19min 44s, sys: 1h 18min 30s, total: 7h 38min 15s\n",
      "Wall time: 5h 35min 46s\n"
     ]
    },
    {
     "name": "stderr",
     "output_type": "stream",
     "text": [
      "\n"
     ]
    }
   ],
   "source": [
    "%%time\n",
    "\n",
    "firefly_logistic_regression_benchmark = ClassificationBenchmark(LogisticRegression,\n",
    "                                                                roc_auc_score,\n",
    "                                                                X_train_nia,\n",
    "                                                                y_train_nia,\n",
    "                                                                X_test_nia,\n",
    "                                                                y_test_nia)\n",
    "\n",
    "firefly_logistic_regression_columns = optimize(firefly_logistic_regression_benchmark, FireflyAlgorithm(), 100)"
   ],
   "metadata": {
    "collapsed": false
   }
  },
  {
   "cell_type": "markdown",
   "source": [
    "### Optimizing columns using Firefly algorithm and Random Forest Classifier"
   ],
   "metadata": {
    "collapsed": false
   }
  },
  {
   "cell_type": "code",
   "execution_count": 22,
   "outputs": [
    {
     "name": "stderr",
     "output_type": "stream",
     "text": [
      " 20%|██        | 1/5 [1:00:02<4:00:08, 3602.06s/it]"
     ]
    },
    {
     "name": "stdout",
     "output_type": "stream",
     "text": [
      "--------------\n",
      "Run 1\n",
      "--------------\n",
      "Score: 0.848983939449224\n",
      "Number of features selected: 103\n",
      "\n",
      "\n",
      "\n"
     ]
    },
    {
     "name": "stderr",
     "output_type": "stream",
     "text": [
      " 40%|████      | 2/5 [1:58:54<2:58:03, 3561.31s/it]"
     ]
    },
    {
     "name": "stdout",
     "output_type": "stream",
     "text": [
      "--------------\n",
      "Run 2\n",
      "--------------\n",
      "Score: 0.8463946306762121\n",
      "Number of features selected: 110\n",
      "\n",
      "\n",
      "\n"
     ]
    },
    {
     "name": "stderr",
     "output_type": "stream",
     "text": [
      " 60%|██████    | 3/5 [2:57:41<1:58:11, 3545.55s/it]"
     ]
    },
    {
     "name": "stdout",
     "output_type": "stream",
     "text": [
      "--------------\n",
      "Run 3\n",
      "--------------\n",
      "Score: 0.84779608927391\n",
      "Number of features selected: 127\n",
      "\n",
      "\n",
      "\n"
     ]
    },
    {
     "name": "stderr",
     "output_type": "stream",
     "text": [
      " 80%|████████  | 4/5 [3:56:58<59:09, 3549.92s/it]  "
     ]
    },
    {
     "name": "stdout",
     "output_type": "stream",
     "text": [
      "--------------\n",
      "Run 4\n",
      "--------------\n",
      "Score: 0.8470661515502402\n",
      "Number of features selected: 123\n",
      "\n",
      "\n",
      "\n"
     ]
    },
    {
     "name": "stderr",
     "output_type": "stream",
     "text": [
      "100%|██████████| 5/5 [4:56:16<00:00, 3555.34s/it]"
     ]
    },
    {
     "name": "stdout",
     "output_type": "stream",
     "text": [
      "--------------\n",
      "Run 5\n",
      "--------------\n",
      "Score: 0.8475517683208137\n",
      "Number of features selected: 124\n",
      "\n",
      "\n",
      "\n",
      "\n",
      "Best score of 5 runs: 0.848983939449224\n",
      "Number of features selected: 103\n",
      "CPU times: user 4h 38min 10s, sys: 16min 29s, total: 4h 54min 39s\n",
      "Wall time: 4h 56min 16s\n"
     ]
    },
    {
     "name": "stderr",
     "output_type": "stream",
     "text": [
      "\n"
     ]
    }
   ],
   "source": [
    "%%time\n",
    "\n",
    "def rf_model():\n",
    "    return RandomForestClassifier(n_estimators=20)\n",
    "\n",
    "\n",
    "firefly_random_forest_benchmark = ClassificationBenchmark(rf_model,\n",
    "                                                          roc_auc_score,\n",
    "                                                          X_train_nia,\n",
    "                                                          y_train_nia,\n",
    "                                                          X_test_nia,\n",
    "                                                          y_test_nia)\n",
    "\n",
    "firefly_random_forest_columns = optimize(firefly_random_forest_benchmark, FireflyAlgorithm(), 100)"
   ],
   "metadata": {
    "collapsed": false
   }
  },
  {
   "cell_type": "markdown",
   "source": [
    "### Optimizing columns using Bat Algorithm and Random Forest Classifier"
   ],
   "metadata": {
    "collapsed": false
   }
  },
  {
   "cell_type": "code",
   "execution_count": 36,
   "outputs": [
    {
     "name": "stderr",
     "output_type": "stream",
     "text": [
      " 20%|██        | 1/5 [41:43<2:46:54, 2503.68s/it]"
     ]
    },
    {
     "name": "stdout",
     "output_type": "stream",
     "text": [
      "--------------\n",
      "Run 1\n",
      "--------------\n",
      "Score: 0.8110621932343244\n",
      "Number of features selected: 118\n",
      "\n",
      "\n",
      "\n"
     ]
    },
    {
     "name": "stderr",
     "output_type": "stream",
     "text": [
      " 40%|████      | 2/5 [1:22:24<2:03:20, 2466.74s/it]"
     ]
    },
    {
     "name": "stdout",
     "output_type": "stream",
     "text": [
      "--------------\n",
      "Run 2\n",
      "--------------\n",
      "Score: 0.809136992695334\n",
      "Number of features selected: 121\n",
      "\n",
      "\n",
      "\n"
     ]
    },
    {
     "name": "stderr",
     "output_type": "stream",
     "text": [
      " 60%|██████    | 3/5 [2:01:39<1:20:31, 2415.64s/it]"
     ]
    },
    {
     "name": "stdout",
     "output_type": "stream",
     "text": [
      "--------------\n",
      "Run 3\n",
      "--------------\n",
      "Score: 0.8100410343780643\n",
      "Number of features selected: 98\n",
      "\n",
      "\n",
      "\n"
     ]
    },
    {
     "name": "stderr",
     "output_type": "stream",
     "text": [
      " 80%|████████  | 4/5 [2:41:00<39:54, 2394.25s/it]  "
     ]
    },
    {
     "name": "stdout",
     "output_type": "stream",
     "text": [
      "--------------\n",
      "Run 4\n",
      "--------------\n",
      "Score: 0.8117540565587816\n",
      "Number of features selected: 127\n",
      "\n",
      "\n",
      "\n"
     ]
    },
    {
     "name": "stderr",
     "output_type": "stream",
     "text": [
      "100%|██████████| 5/5 [3:52:53<00:00, 2794.68s/it]"
     ]
    },
    {
     "name": "stdout",
     "output_type": "stream",
     "text": [
      "--------------\n",
      "Run 5\n",
      "--------------\n",
      "Score: 0.8090437085133325\n",
      "Number of features selected: 122\n",
      "\n",
      "\n",
      "\n",
      "\n",
      "Best score of 5 runs: 0.8117540565587816\n",
      "Number of features selected: 127\n",
      "CPU times: user 2h 49min 16s, sys: 31min 14s, total: 3h 20min 31s\n",
      "Wall time: 3h 52min 53s\n"
     ]
    },
    {
     "name": "stderr",
     "output_type": "stream",
     "text": [
      "\n"
     ]
    }
   ],
   "source": [
    "%%time\n",
    "\n",
    "def rf_bat_model():\n",
    "    return RandomForestClassifier(n_estimators=10, max_depth=10)\n",
    "\n",
    "bat_random_forest_benchmark = ClassificationBenchmark(rf_bat_model,\n",
    "                                                      roc_auc_score,\n",
    "                                                      X_train_nia,\n",
    "                                                      y_train_nia,\n",
    "                                                      X_test_nia,\n",
    "                                                      y_test_nia)\n",
    "\n",
    "bat_random_forest_columns = optimize(bat_random_forest_benchmark, BatAlgorithm(), 100)"
   ],
   "metadata": {
    "collapsed": false
   }
  },
  {
   "cell_type": "markdown",
   "source": [
    "### Optimizing columns using Particle Swarm Optimization and Random Forest Classifier"
   ],
   "metadata": {
    "collapsed": false
   }
  },
  {
   "cell_type": "code",
   "execution_count": 38,
   "outputs": [
    {
     "name": "stderr",
     "output_type": "stream",
     "text": [
      " 20%|██        | 1/5 [1:13:18<4:53:12, 4398.03s/it]"
     ]
    },
    {
     "name": "stdout",
     "output_type": "stream",
     "text": [
      "--------------\n",
      "Run 1\n",
      "--------------\n",
      "Score: 0.8547472247448139\n",
      "Number of features selected: 110\n",
      "\n",
      "\n",
      "\n"
     ]
    },
    {
     "name": "stderr",
     "output_type": "stream",
     "text": [
      " 40%|████      | 2/5 [2:28:36<3:43:26, 4468.67s/it]"
     ]
    },
    {
     "name": "stdout",
     "output_type": "stream",
     "text": [
      "--------------\n",
      "Run 2\n",
      "--------------\n",
      "Score: 0.8607576403502151\n",
      "Number of features selected: 121\n",
      "\n",
      "\n",
      "\n"
     ]
    },
    {
     "name": "stderr",
     "output_type": "stream",
     "text": [
      " 60%|██████    | 3/5 [6:15:36<4:48:14, 8647.38s/it]"
     ]
    },
    {
     "name": "stdout",
     "output_type": "stream",
     "text": [
      "--------------\n",
      "Run 3\n",
      "--------------\n",
      "Score: 0.8468617666182758\n",
      "Number of features selected: 122\n",
      "\n",
      "\n",
      "\n"
     ]
    },
    {
     "name": "stderr",
     "output_type": "stream",
     "text": [
      " 80%|████████  | 4/5 [7:34:30<1:58:22, 7102.70s/it]"
     ]
    },
    {
     "name": "stdout",
     "output_type": "stream",
     "text": [
      "--------------\n",
      "Run 4\n",
      "--------------\n",
      "Score: 0.8562549142587715\n",
      "Number of features selected: 121\n",
      "\n",
      "\n",
      "\n"
     ]
    },
    {
     "name": "stderr",
     "output_type": "stream",
     "text": [
      "100%|██████████| 5/5 [8:51:41<00:00, 6380.37s/it]  "
     ]
    },
    {
     "name": "stdout",
     "output_type": "stream",
     "text": [
      "--------------\n",
      "Run 5\n",
      "--------------\n",
      "Score: 0.854956229883906\n",
      "Number of features selected: 112\n",
      "\n",
      "\n",
      "\n",
      "\n",
      "Best score of 5 runs: 0.8607576403502151\n",
      "Number of features selected: 121\n",
      "CPU times: user 6h 4min 48s, sys: 21min 22s, total: 6h 26min 10s\n",
      "Wall time: 8h 51min 41s\n"
     ]
    },
    {
     "name": "stderr",
     "output_type": "stream",
     "text": [
      "\n"
     ]
    }
   ],
   "source": [
    "%%time\n",
    "\n",
    "particle_swarm_random_forest_benchmark = ClassificationBenchmark(rf_model,\n",
    "                                                                 roc_auc_score,\n",
    "                                                                 X_train_nia,\n",
    "                                                                 y_train_nia,\n",
    "                                                                 X_test_nia,\n",
    "                                                                 y_test_nia)\n",
    "\n",
    "particle_swarm_forest_columns = optimize(particle_swarm_random_forest_benchmark, ParticleSwarmOptimization(), 100)"
   ],
   "metadata": {
    "collapsed": false
   }
  },
  {
   "cell_type": "markdown",
   "source": [
    "### Finally, let's check roc_acc score with the best nature inspired and machine learning algorithms for our dataset"
   ],
   "metadata": {
    "collapsed": false
   }
  },
  {
   "cell_type": "code",
   "execution_count": 47,
   "outputs": [
    {
     "name": "stdout",
     "output_type": "stream",
     "text": [
      "CPU times: user 4min 16s, sys: 4.6 s, total: 4min 21s\n",
      "Wall time: 4min 25s\n"
     ]
    },
    {
     "data": {
      "text/plain": "0.7489562393612538"
     },
     "execution_count": 47,
     "metadata": {},
     "output_type": "execute_result"
    }
   ],
   "source": [
    "%%time\n",
    "\n",
    "clf = RandomForestClassifier()\n",
    "clf.fit(X_train[particle_swarm_forest_columns], y_train)\n",
    "y_predict = clf.predict(X_test[particle_swarm_forest_columns])\n",
    "roc_auc_score(y_test, y_predict)"
   ],
   "metadata": {
    "collapsed": false
   }
  },
  {
   "cell_type": "markdown",
   "source": [
    "### Let's also check the results without feature engineering"
   ],
   "metadata": {
    "collapsed": false
   }
  },
  {
   "cell_type": "code",
   "execution_count": 48,
   "outputs": [
    {
     "data": {
      "text/plain": "0.7244383528978514"
     },
     "execution_count": 48,
     "metadata": {},
     "output_type": "execute_result"
    }
   ],
   "source": [
    "%%time\n",
    "\n",
    "clf = RandomForestClassifier()\n",
    "clf.fit(X_train, y_train)\n",
    "y_predict = clf.predict(X_test)\n",
    "roc_auc_score(y_test, y_predict)"
   ],
   "metadata": {
    "collapsed": false
   }
  }
 ],
 "metadata": {
  "kernelspec": {
   "display_name": "Python 3",
   "language": "python",
   "name": "python3"
  },
  "language_info": {
   "codemirror_mode": {
    "name": "ipython",
    "version": 2
   },
   "file_extension": ".py",
   "mimetype": "text/x-python",
   "name": "python",
   "nbconvert_exporter": "python",
   "pygments_lexer": "ipython2",
   "version": "2.7.6"
  }
 },
 "nbformat": 4,
 "nbformat_minor": 0
}
